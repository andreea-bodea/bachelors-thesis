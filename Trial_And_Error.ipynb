{
 "cells": [
  {
   "cell_type": "code",
   "execution_count": 91,
   "metadata": {},
   "outputs": [
    {
     "data": {
      "text/html": [
       "<div>\n",
       "<style scoped>\n",
       "    .dataframe tbody tr th:only-of-type {\n",
       "        vertical-align: middle;\n",
       "    }\n",
       "\n",
       "    .dataframe tbody tr th {\n",
       "        vertical-align: top;\n",
       "    }\n",
       "\n",
       "    .dataframe thead th {\n",
       "        text-align: right;\n",
       "    }\n",
       "</style>\n",
       "<table border=\"1\" class=\"dataframe\">\n",
       "  <thead>\n",
       "    <tr style=\"text-align: right;\">\n",
       "      <th></th>\n",
       "      <th>body</th>\n",
       "      <th>createdAtformatted</th>\n",
       "    </tr>\n",
       "  </thead>\n",
       "  <tbody>\n",
       "    <tr>\n",
       "      <th>0</th>\n",
       "      <td>week anarchist threatened destroy emancipation...</td>\n",
       "      <td>2020-06-26</td>\n",
       "    </tr>\n",
       "    <tr>\n",
       "      <th>1</th>\n",
       "      <td>happening now alex jones leading crowd trump s...</td>\n",
       "      <td>2020-11-19</td>\n",
       "    </tr>\n",
       "    <tr>\n",
       "      <th>2</th>\n",
       "      <td>that president one time</td>\n",
       "      <td>2019-06-06</td>\n",
       "    </tr>\n",
       "    <tr>\n",
       "      <th>3</th>\n",
       "      <td>former michigan trump campaign director scott ...</td>\n",
       "      <td>2020-11-11</td>\n",
       "    </tr>\n",
       "    <tr>\n",
       "      <th>4</th>\n",
       "      <td>you all think show like recount genuinely inte...</td>\n",
       "      <td>2020-11-21</td>\n",
       "    </tr>\n",
       "    <tr>\n",
       "      <th>...</th>\n",
       "      <td>...</td>\n",
       "      <td>...</td>\n",
       "    </tr>\n",
       "    <tr>\n",
       "      <th>608940</th>\n",
       "      <td>piada</td>\n",
       "      <td>2020-12-09</td>\n",
       "    </tr>\n",
       "    <tr>\n",
       "      <th>608941</th>\n",
       "      <td>breaking rudy giuliani dominion whistle blower...</td>\n",
       "      <td>2020-11-11</td>\n",
       "    </tr>\n",
       "    <tr>\n",
       "      <th>608942</th>\n",
       "      <td>imagine trying potus face attack insidious lef...</td>\n",
       "      <td>2020-11-25</td>\n",
       "    </tr>\n",
       "    <tr>\n",
       "      <th>608943</th>\n",
       "      <td>together now together now aaaaaaaaaaaaaaaaaaaa...</td>\n",
       "      <td>2020-01-12</td>\n",
       "    </tr>\n",
       "    <tr>\n",
       "      <th>608944</th>\n",
       "      <td>hahaha rest piss</td>\n",
       "      <td>2020-12-13</td>\n",
       "    </tr>\n",
       "  </tbody>\n",
       "</table>\n",
       "<p>608945 rows × 2 columns</p>\n",
       "</div>"
      ],
      "text/plain": [
       "                                                     body createdAtformatted\n",
       "0       week anarchist threatened destroy emancipation...         2020-06-26\n",
       "1       happening now alex jones leading crowd trump s...         2020-11-19\n",
       "2                                 that president one time         2019-06-06\n",
       "3       former michigan trump campaign director scott ...         2020-11-11\n",
       "4       you all think show like recount genuinely inte...         2020-11-21\n",
       "...                                                   ...                ...\n",
       "608940                                              piada         2020-12-09\n",
       "608941  breaking rudy giuliani dominion whistle blower...         2020-11-11\n",
       "608942  imagine trying potus face attack insidious lef...         2020-11-25\n",
       "608943  together now together now aaaaaaaaaaaaaaaaaaaa...         2020-01-12\n",
       "608944                                   hahaha rest piss         2020-12-13\n",
       "\n",
       "[608945 rows x 2 columns]"
      ]
     },
     "execution_count": 91,
     "metadata": {},
     "output_type": "execute_result"
    }
   ],
   "source": [
    "import pandas as pd\n",
    "\n",
    "parler_df = pd.read_csv('C:\\\\Users\\\\cosmi\\\\Desktop\\\\ANDREEA\\\\bachelors-thesis\\\\parler_df_020_dates.csv')\n",
    "parler_df\n"
   ]
  },
  {
   "cell_type": "code",
   "execution_count": null,
   "metadata": {},
   "outputs": [],
   "source": [
    "print('Test')"
   ]
  },
  {
   "cell_type": "code",
   "execution_count": null,
   "metadata": {
    "scrolled": true
   },
   "outputs": [],
   "source": [
    "# Dataset preprocessing\n",
    "\n",
    "import json\n",
    "import pandas as pd \n",
    "\n",
    "\"\"\"\n",
    "# with open('C:\\ANDREEA\\parler_data000000000000.ndjson', 'r') as datafile:\n",
    "with open('D:\\\\bachelors_thesis\\Datasets\\parler_data\\parler_data000000000000.ndjson', 'r') as datafile:\n",
    "    for line in datafile:\n",
    "        data = json.loads(line)\n",
    "parler_df = pd.DataFrame(data)\n",
    "\n",
    "parler_df_1 = pd.read_json('D:\\\\bachelors_thesis\\Datasets\\parler_data\\parler_data000000000001.ndjson', \n",
    "                         lines=True, encoding='utf-8-sig', encoding_errors='ignore', orient='records')\n",
    "\"\"\"\n",
    "\n",
    "# Convert a JSON string to pandas object.\n",
    "parler_df_0 = pd.read_json('D:\\\\bachelors_thesis\\Datasets\\parler_data\\parler_data000000000000.ndjson') "
   ]
  },
  {
   "cell_type": "code",
   "execution_count": null,
   "metadata": {},
   "outputs": [],
   "source": [
    "print(parler_df_0.columns)\n",
    "print(parler_df_0.head(3)) # first 3 rows\n",
    "print(parler_df_0.tail(3)) # last 3 rows\n",
    "print(parler_df_0.dtypes)\n",
    "print(parler_df_0.info)\n",
    "# parler_df_0.shape\n",
    "# print(df)"
   ]
  },
  {
   "cell_type": "code",
   "execution_count": null,
   "metadata": {},
   "outputs": [],
   "source": [
    "parler_df_1 = pd.read_json('D:\\\\bachelors_thesis\\Datasets\\parler_data\\parler_data000000000001.ndjson', \n",
    "                         lines=True, encoding='utf-8-sig', encoding_errors='ignore', orient='records')"
   ]
  },
  {
   "cell_type": "code",
   "execution_count": null,
   "metadata": {},
   "outputs": [],
   "source": [
    "dfs = [] # an empty list to store the data frames\n",
    "for i in range(1, 2):\n",
    "    path = 'D:\\\\bachelors_thesis\\Datasets\\parler_data\\parler_data00000000000' + str(i) + '.ndjson'\n",
    "    data = pd.read_json(path, lines=True) # read data frame from json file\n",
    "    print('ndjson file number ' + str(i) + ' with dimension: ')\n",
    "    print(data.shape)\n",
    "    dfs.append(data) # append the data frame to the list\n",
    "\n",
    "parler_data = pd.concat(dfs, ignore_index=True) # concatenate all the dat\n",
    "    "
   ]
  },
  {
   "cell_type": "code",
   "execution_count": null,
   "metadata": {},
   "outputs": [],
   "source": [
    "# new = old[['A', 'C', 'D']].copy()\n",
    "\n",
    "final_df = parler_data[['comment']].copy()\n",
    "\n",
    "final_df.head()"
   ]
  },
  {
   "cell_type": "code",
   "execution_count": null,
   "metadata": {},
   "outputs": [],
   "source": []
  },
  {
   "cell_type": "code",
   "execution_count": null,
   "metadata": {},
   "outputs": [],
   "source": [
    "# https://www.nltk.org/nltk_data/\n",
    "# http://universal.elra.info/product_info.php?cPath=42_43&products_id=1509\n",
    "# https://www.nltk.org/book/ch02.html\n",
    "\n",
    "from nltk.corpus import cess_esp\n",
    "spanish_corpus = cess_esp.words() "
   ]
  },
  {
   "cell_type": "code",
   "execution_count": null,
   "metadata": {},
   "outputs": [],
   "source": [
    "parler_df = pd.read_csv('C:\\\\Users\\\\cosmi\\\\Desktop\\\\ANDREEA\\\\bachelors-thesis\\\\parler_df_020_dates.csv')"
   ]
  },
  {
   "cell_type": "code",
   "execution_count": null,
   "metadata": {},
   "outputs": [],
   "source": [
    "parler_df['body'] = parler_df['body'].apply(lambda x: ' '.join([w.strip() for w in x.split() if (w in cess_esp.words())]))\n",
    "print(parler_df)"
   ]
  },
  {
   "cell_type": "code",
   "execution_count": null,
   "metadata": {},
   "outputs": [],
   "source": [
    "df = parler_df[199:203]\n",
    "print(df)"
   ]
  },
  {
   "cell_type": "code",
   "execution_count": null,
   "metadata": {},
   "outputs": [],
   "source": [
    "# df['body'] = df['body'].apply(lambda x: ' '.join([w.strip() for w in x.split() if (w in cess_esp.words())]))\n",
    "df['body'] = df['body'].apply(lambda x: ''.join([i for i in x if i not in spanish_corpus]))\n",
    "print(df)"
   ]
  },
  {
   "cell_type": "code",
   "execution_count": null,
   "metadata": {},
   "outputs": [],
   "source": [
    "# https://stackoverflow.com/questions/41290028/removing-non-english-words-from-text-using-python\n",
    "\n",
    "import nltk\n",
    "words = set(nltk.corpus.words.words())\n",
    "# print(words[0:10])\n",
    "\n",
    "df = parler_df[179:203]\n",
    "print(df)\n",
    "# sent = \"boys\"\n",
    "df['body'] = df['body'].apply(lambda x: ''.join([i for i in x if i in words]))\n",
    "#\" \".join(w for w in nltk.wordpunct_tokenize(df['body']) \\\n",
    " #        if w.lower() in words )\n",
    "# 'Io to the beach with my'\n",
    "\n",
    "print(df)"
   ]
  },
  {
   "cell_type": "code",
   "execution_count": null,
   "metadata": {},
   "outputs": [],
   "source": []
  },
  {
   "cell_type": "code",
   "execution_count": null,
   "metadata": {},
   "outputs": [],
   "source": [
    "from googletrans import Translator, constants\n",
    "from pprint import pprint"
   ]
  },
  {
   "cell_type": "code",
   "execution_count": null,
   "metadata": {},
   "outputs": [],
   "source": [
    "# init the Google API translator\n",
    "translator = Translator()"
   ]
  },
  {
   "cell_type": "code",
   "execution_count": null,
   "metadata": {
    "scrolled": true
   },
   "outputs": [],
   "source": [
    "translation = translator.translate(\"Hola Mundo\")\n",
    "print(f\"{translation.origin} ({translation.src}) --> {translation.text} ({translation.dest})\")"
   ]
  },
  {
   "cell_type": "code",
   "execution_count": null,
   "metadata": {},
   "outputs": [],
   "source": [
    "sentences = [\n",
    "    \"Hello everyone\",\n",
    "    \"How are you ?\",\n",
    "    \"Do you speak english ?\",\n",
    "    \"Good bye!\"\n",
    "]\n",
    "translations = translator.translate(sentences, dest=\"tr\")\n",
    "for translation in translations:\n",
    "    print(f\"{translation.origin} ({translation.src}) --> {translation.text} ({translation.dest})\")"
   ]
  },
  {
   "cell_type": "code",
   "execution_count": null,
   "metadata": {},
   "outputs": [],
   "source": [
    "detection = translator.detect(\"english\")\n",
    "print(\"Language code:\", detection.lang)\n",
    "print(\"Confidence:\", detection.confidence)"
   ]
  },
  {
   "cell_type": "code",
   "execution_count": null,
   "metadata": {},
   "outputs": [],
   "source": [
    "if x in df.body\n",
    "\n",
    "translations = translator.translate(df.body, dest=\"en\")\n",
    "print(translations) \n",
    "# for translation in translations:\n",
    "#   print(f\"{translation.origin} ({translation.src}) --> {translation.text} ({translation.dest})\")"
   ]
  },
  {
   "cell_type": "code",
   "execution_count": 3,
   "metadata": {},
   "outputs": [
    {
     "name": "stderr",
     "output_type": "stream",
     "text": [
      "Warning : `load_model` does not return WordVectorModel or SupervisedModel any more, but a `FastText` object which is very similar.\n"
     ]
    }
   ],
   "source": [
    "import fasttext\n",
    "model = fasttext.load_model(\"lid.176.ftz\")"
   ]
  },
  {
   "cell_type": "code",
   "execution_count": 4,
   "metadata": {},
   "outputs": [
    {
     "name": "stderr",
     "output_type": "stream",
     "text": [
      "<ipython-input-4-a1b7523cd5b5>:7: SettingWithCopyWarning: \n",
      "A value is trying to be set on a copy of a slice from a DataFrame.\n",
      "Try using .loc[row_indexer,col_indexer] = value instead\n",
      "\n",
      "See the caveats in the documentation: https://pandas.pydata.org/pandas-docs/stable/user_guide/indexing.html#returning-a-view-versus-a-copy\n",
      "  df[\"language\"] = df[\"body\"].apply(fast_detect)\n"
     ]
    },
    {
     "data": {
      "text/plain": [
       "368    en\n",
       "369    pt\n",
       "370    en\n",
       "371    en\n",
       "372    en\n",
       "Name: language, dtype: object"
      ]
     },
     "execution_count": 4,
     "metadata": {},
     "output_type": "execute_result"
    }
   ],
   "source": [
    "# https://medium.com/affinityanswers-tech/best-ways-of-detecting-language-of-text-in-python-5956846aa5e9\n",
    "# https://stackoverflow.com/questions/39142778/python-how-to-determine-the-language\n",
    "\n",
    "def fast_detect(msg):\n",
    "    try:\n",
    "        ln = model.predict(msg)[0][0].split(\"__\")[2] \n",
    "    except Exception as e:\n",
    "        ln = None\n",
    "    return ln\n",
    "df[\"language\"] = df[\"body\"].apply(fast_detect)\n",
    "df[\"language\"]"
   ]
  },
  {
   "cell_type": "code",
   "execution_count": 5,
   "metadata": {},
   "outputs": [
    {
     "data": {
      "text/plain": [
       "0          en\n",
       "1          en\n",
       "2          en\n",
       "3          en\n",
       "4          en\n",
       "         ... \n",
       "608940     it\n",
       "608941     en\n",
       "608942     en\n",
       "608943     en\n",
       "608944    war\n",
       "Name: language, Length: 608945, dtype: object"
      ]
     },
     "execution_count": 5,
     "metadata": {},
     "output_type": "execute_result"
    }
   ],
   "source": [
    "parler_df[\"language\"] = parler_df[\"body\"].apply(fast_detect)\n",
    "parler_df[\"language\"]"
   ]
  },
  {
   "cell_type": "code",
   "execution_count": 56,
   "metadata": {},
   "outputs": [
    {
     "name": "stdout",
     "output_type": "stream",
     "text": [
      "                                                     body createdAtformatted\n",
      "0       week anarchist threatened destroy emancipation...         2020-06-26\n",
      "1       happening now alex jones leading crowd trump s...         2020-11-19\n",
      "2                                 that president one time         2019-06-06\n",
      "3       former michigan trump campaign director scott ...         2020-11-11\n",
      "4       you all think show like recount genuinely inte...         2020-11-21\n",
      "...                                                   ...                ...\n",
      "608940                                              piada         2020-12-09\n",
      "608941  breaking rudy giuliani dominion whistle blower...         2020-11-11\n",
      "608942  imagine trying potus face attack insidious lef...         2020-11-25\n",
      "608943  together now together now aaaaaaaaaaaaaaaaaaaa...         2020-01-12\n",
      "608944                                   hahaha rest piss         2020-12-13\n",
      "\n",
      "[608945 rows x 2 columns]\n"
     ]
    },
    {
     "ename": "KeyError",
     "evalue": "'language'",
     "output_type": "error",
     "traceback": [
      "\u001b[1;31m---------------------------------------------------------------------------\u001b[0m",
      "\u001b[1;31mKeyError\u001b[0m                                  Traceback (most recent call last)",
      "\u001b[1;32m~\\anaconda3\\lib\\site-packages\\pandas\\core\\indexes\\base.py\u001b[0m in \u001b[0;36mget_loc\u001b[1;34m(self, key, method, tolerance)\u001b[0m\n\u001b[0;32m   2645\u001b[0m             \u001b[1;32mtry\u001b[0m\u001b[1;33m:\u001b[0m\u001b[1;33m\u001b[0m\u001b[1;33m\u001b[0m\u001b[0m\n\u001b[1;32m-> 2646\u001b[1;33m                 \u001b[1;32mreturn\u001b[0m \u001b[0mself\u001b[0m\u001b[1;33m.\u001b[0m\u001b[0m_engine\u001b[0m\u001b[1;33m.\u001b[0m\u001b[0mget_loc\u001b[0m\u001b[1;33m(\u001b[0m\u001b[0mkey\u001b[0m\u001b[1;33m)\u001b[0m\u001b[1;33m\u001b[0m\u001b[1;33m\u001b[0m\u001b[0m\n\u001b[0m\u001b[0;32m   2647\u001b[0m             \u001b[1;32mexcept\u001b[0m \u001b[0mKeyError\u001b[0m\u001b[1;33m:\u001b[0m\u001b[1;33m\u001b[0m\u001b[1;33m\u001b[0m\u001b[0m\n",
      "\u001b[1;32mpandas\\_libs\\index.pyx\u001b[0m in \u001b[0;36mpandas._libs.index.IndexEngine.get_loc\u001b[1;34m()\u001b[0m\n",
      "\u001b[1;32mpandas\\_libs\\index.pyx\u001b[0m in \u001b[0;36mpandas._libs.index.IndexEngine.get_loc\u001b[1;34m()\u001b[0m\n",
      "\u001b[1;32mpandas\\_libs\\hashtable_class_helper.pxi\u001b[0m in \u001b[0;36mpandas._libs.hashtable.PyObjectHashTable.get_item\u001b[1;34m()\u001b[0m\n",
      "\u001b[1;32mpandas\\_libs\\hashtable_class_helper.pxi\u001b[0m in \u001b[0;36mpandas._libs.hashtable.PyObjectHashTable.get_item\u001b[1;34m()\u001b[0m\n",
      "\u001b[1;31mKeyError\u001b[0m: 'language'",
      "\nDuring handling of the above exception, another exception occurred:\n",
      "\u001b[1;31mKeyError\u001b[0m                                  Traceback (most recent call last)",
      "\u001b[1;32m<ipython-input-56-7817a449c682>\u001b[0m in \u001b[0;36m<module>\u001b[1;34m\u001b[0m\n\u001b[0;32m      1\u001b[0m \u001b[0mprint\u001b[0m\u001b[1;33m(\u001b[0m\u001b[0mparler_df\u001b[0m\u001b[1;33m)\u001b[0m\u001b[1;33m\u001b[0m\u001b[1;33m\u001b[0m\u001b[0m\n\u001b[0;32m      2\u001b[0m \u001b[1;33m\u001b[0m\u001b[0m\n\u001b[1;32m----> 3\u001b[1;33m \u001b[0mparler_df\u001b[0m\u001b[1;33m.\u001b[0m\u001b[0mdrop\u001b[0m\u001b[1;33m(\u001b[0m\u001b[0mparler_df\u001b[0m\u001b[1;33m[\u001b[0m\u001b[0mparler_df\u001b[0m\u001b[1;33m[\u001b[0m\u001b[1;34m'language'\u001b[0m\u001b[1;33m]\u001b[0m \u001b[1;33m!=\u001b[0m \u001b[1;34m'en'\u001b[0m\u001b[1;33m]\u001b[0m\u001b[1;33m.\u001b[0m\u001b[0mindex\u001b[0m\u001b[1;33m,\u001b[0m \u001b[0minplace\u001b[0m\u001b[1;33m=\u001b[0m\u001b[1;32mTrue\u001b[0m\u001b[1;33m)\u001b[0m\u001b[1;33m\u001b[0m\u001b[1;33m\u001b[0m\u001b[0m\n\u001b[0m\u001b[0;32m      4\u001b[0m \u001b[1;33m\u001b[0m\u001b[0m\n\u001b[0;32m      5\u001b[0m \u001b[0mprint\u001b[0m\u001b[1;33m(\u001b[0m\u001b[0mparler_df\u001b[0m\u001b[1;33m)\u001b[0m\u001b[1;33m\u001b[0m\u001b[1;33m\u001b[0m\u001b[0m\n",
      "\u001b[1;32m~\\anaconda3\\lib\\site-packages\\pandas\\core\\frame.py\u001b[0m in \u001b[0;36m__getitem__\u001b[1;34m(self, key)\u001b[0m\n\u001b[0;32m   2798\u001b[0m             \u001b[1;32mif\u001b[0m \u001b[0mself\u001b[0m\u001b[1;33m.\u001b[0m\u001b[0mcolumns\u001b[0m\u001b[1;33m.\u001b[0m\u001b[0mnlevels\u001b[0m \u001b[1;33m>\u001b[0m \u001b[1;36m1\u001b[0m\u001b[1;33m:\u001b[0m\u001b[1;33m\u001b[0m\u001b[1;33m\u001b[0m\u001b[0m\n\u001b[0;32m   2799\u001b[0m                 \u001b[1;32mreturn\u001b[0m \u001b[0mself\u001b[0m\u001b[1;33m.\u001b[0m\u001b[0m_getitem_multilevel\u001b[0m\u001b[1;33m(\u001b[0m\u001b[0mkey\u001b[0m\u001b[1;33m)\u001b[0m\u001b[1;33m\u001b[0m\u001b[1;33m\u001b[0m\u001b[0m\n\u001b[1;32m-> 2800\u001b[1;33m             \u001b[0mindexer\u001b[0m \u001b[1;33m=\u001b[0m \u001b[0mself\u001b[0m\u001b[1;33m.\u001b[0m\u001b[0mcolumns\u001b[0m\u001b[1;33m.\u001b[0m\u001b[0mget_loc\u001b[0m\u001b[1;33m(\u001b[0m\u001b[0mkey\u001b[0m\u001b[1;33m)\u001b[0m\u001b[1;33m\u001b[0m\u001b[1;33m\u001b[0m\u001b[0m\n\u001b[0m\u001b[0;32m   2801\u001b[0m             \u001b[1;32mif\u001b[0m \u001b[0mis_integer\u001b[0m\u001b[1;33m(\u001b[0m\u001b[0mindexer\u001b[0m\u001b[1;33m)\u001b[0m\u001b[1;33m:\u001b[0m\u001b[1;33m\u001b[0m\u001b[1;33m\u001b[0m\u001b[0m\n\u001b[0;32m   2802\u001b[0m                 \u001b[0mindexer\u001b[0m \u001b[1;33m=\u001b[0m \u001b[1;33m[\u001b[0m\u001b[0mindexer\u001b[0m\u001b[1;33m]\u001b[0m\u001b[1;33m\u001b[0m\u001b[1;33m\u001b[0m\u001b[0m\n",
      "\u001b[1;32m~\\anaconda3\\lib\\site-packages\\pandas\\core\\indexes\\base.py\u001b[0m in \u001b[0;36mget_loc\u001b[1;34m(self, key, method, tolerance)\u001b[0m\n\u001b[0;32m   2646\u001b[0m                 \u001b[1;32mreturn\u001b[0m \u001b[0mself\u001b[0m\u001b[1;33m.\u001b[0m\u001b[0m_engine\u001b[0m\u001b[1;33m.\u001b[0m\u001b[0mget_loc\u001b[0m\u001b[1;33m(\u001b[0m\u001b[0mkey\u001b[0m\u001b[1;33m)\u001b[0m\u001b[1;33m\u001b[0m\u001b[1;33m\u001b[0m\u001b[0m\n\u001b[0;32m   2647\u001b[0m             \u001b[1;32mexcept\u001b[0m \u001b[0mKeyError\u001b[0m\u001b[1;33m:\u001b[0m\u001b[1;33m\u001b[0m\u001b[1;33m\u001b[0m\u001b[0m\n\u001b[1;32m-> 2648\u001b[1;33m                 \u001b[1;32mreturn\u001b[0m \u001b[0mself\u001b[0m\u001b[1;33m.\u001b[0m\u001b[0m_engine\u001b[0m\u001b[1;33m.\u001b[0m\u001b[0mget_loc\u001b[0m\u001b[1;33m(\u001b[0m\u001b[0mself\u001b[0m\u001b[1;33m.\u001b[0m\u001b[0m_maybe_cast_indexer\u001b[0m\u001b[1;33m(\u001b[0m\u001b[0mkey\u001b[0m\u001b[1;33m)\u001b[0m\u001b[1;33m)\u001b[0m\u001b[1;33m\u001b[0m\u001b[1;33m\u001b[0m\u001b[0m\n\u001b[0m\u001b[0;32m   2649\u001b[0m         \u001b[0mindexer\u001b[0m \u001b[1;33m=\u001b[0m \u001b[0mself\u001b[0m\u001b[1;33m.\u001b[0m\u001b[0mget_indexer\u001b[0m\u001b[1;33m(\u001b[0m\u001b[1;33m[\u001b[0m\u001b[0mkey\u001b[0m\u001b[1;33m]\u001b[0m\u001b[1;33m,\u001b[0m \u001b[0mmethod\u001b[0m\u001b[1;33m=\u001b[0m\u001b[0mmethod\u001b[0m\u001b[1;33m,\u001b[0m \u001b[0mtolerance\u001b[0m\u001b[1;33m=\u001b[0m\u001b[0mtolerance\u001b[0m\u001b[1;33m)\u001b[0m\u001b[1;33m\u001b[0m\u001b[1;33m\u001b[0m\u001b[0m\n\u001b[0;32m   2650\u001b[0m         \u001b[1;32mif\u001b[0m \u001b[0mindexer\u001b[0m\u001b[1;33m.\u001b[0m\u001b[0mndim\u001b[0m \u001b[1;33m>\u001b[0m \u001b[1;36m1\u001b[0m \u001b[1;32mor\u001b[0m \u001b[0mindexer\u001b[0m\u001b[1;33m.\u001b[0m\u001b[0msize\u001b[0m \u001b[1;33m>\u001b[0m \u001b[1;36m1\u001b[0m\u001b[1;33m:\u001b[0m\u001b[1;33m\u001b[0m\u001b[1;33m\u001b[0m\u001b[0m\n",
      "\u001b[1;32mpandas\\_libs\\index.pyx\u001b[0m in \u001b[0;36mpandas._libs.index.IndexEngine.get_loc\u001b[1;34m()\u001b[0m\n",
      "\u001b[1;32mpandas\\_libs\\index.pyx\u001b[0m in \u001b[0;36mpandas._libs.index.IndexEngine.get_loc\u001b[1;34m()\u001b[0m\n",
      "\u001b[1;32mpandas\\_libs\\hashtable_class_helper.pxi\u001b[0m in \u001b[0;36mpandas._libs.hashtable.PyObjectHashTable.get_item\u001b[1;34m()\u001b[0m\n",
      "\u001b[1;32mpandas\\_libs\\hashtable_class_helper.pxi\u001b[0m in \u001b[0;36mpandas._libs.hashtable.PyObjectHashTable.get_item\u001b[1;34m()\u001b[0m\n",
      "\u001b[1;31mKeyError\u001b[0m: 'language'"
     ]
    }
   ],
   "source": [
    "print(parler_df)\n",
    "\n",
    "parler_df.drop(parler_df[parler_df['language'] != 'en'].index, inplace=True)\n",
    "\n",
    "print(parler_df)"
   ]
  },
  {
   "cell_type": "code",
   "execution_count": null,
   "metadata": {},
   "outputs": [],
   "source": [
    "# df = parler_df['createdAtformatted'].\n",
    "# parler_df.drop(parler_df[parler_df['language'] != 'en'].index, inplace=True)\n",
    "df = parler_df[parler_df['language'] != 'en'].index)\n",
    "df\n",
    "\n",
    "\n",
    "df = parler_df[parler_df['createdAtformatted'].str.split(n = 0, expand = False).str[0] != 'en'].index)\n",
    "df"
   ]
  },
  {
   "cell_type": "code",
   "execution_count": 38,
   "metadata": {
    "scrolled": true
   },
   "outputs": [
    {
     "ename": "KeyError",
     "evalue": "'createdAtformatted'",
     "output_type": "error",
     "traceback": [
      "\u001b[1;31m---------------------------------------------------------------------------\u001b[0m",
      "\u001b[1;31mKeyError\u001b[0m                                  Traceback (most recent call last)",
      "\u001b[1;32m<ipython-input-38-22da26418f82>\u001b[0m in \u001b[0;36m<module>\u001b[1;34m\u001b[0m\n\u001b[0;32m      7\u001b[0m \u001b[1;31m#ian_2021 = ( (df['createdAtformatted'].str.split('-'))[0] == '2021' & (df['createdAtformatted'].str.split('-'))[1] == '01')\u001b[0m\u001b[1;33m\u001b[0m\u001b[1;33m\u001b[0m\u001b[1;33m\u001b[0m\u001b[0m\n\u001b[0;32m      8\u001b[0m \u001b[1;33m\u001b[0m\u001b[0m\n\u001b[1;32m----> 9\u001b[1;33m \u001b[0mnov_2020\u001b[0m \u001b[1;33m=\u001b[0m \u001b[1;33m(\u001b[0m \u001b[0mdf\u001b[0m\u001b[1;33m[\u001b[0m\u001b[1;34m'createdAtformatted'\u001b[0m\u001b[1;33m]\u001b[0m\u001b[1;33m.\u001b[0m\u001b[0mmap\u001b[0m\u001b[1;33m(\u001b[0m\u001b[1;33m(\u001b[0m\u001b[0mstr\u001b[0m\u001b[1;33m.\u001b[0m\u001b[0msplit\u001b[0m\u001b[1;33m(\u001b[0m\u001b[1;34m'-'\u001b[0m\u001b[1;33m)\u001b[0m\u001b[1;33m)\u001b[0m\u001b[1;33m[\u001b[0m\u001b[1;36m0\u001b[0m\u001b[1;33m]\u001b[0m \u001b[1;33m==\u001b[0m \u001b[1;34m'2020'\u001b[0m\u001b[1;33m)\u001b[0m \u001b[1;33m)\u001b[0m\u001b[1;33m\u001b[0m\u001b[1;33m\u001b[0m\u001b[0m\n\u001b[0m\u001b[0;32m     10\u001b[0m               \u001b[1;31m# & ((df['createdAtformatted'].str.split('-'))[1] == '11') )\u001b[0m\u001b[1;33m\u001b[0m\u001b[1;33m\u001b[0m\u001b[1;33m\u001b[0m\u001b[0m\n\u001b[0;32m     11\u001b[0m \u001b[0mnov_2020\u001b[0m\u001b[1;33m\u001b[0m\u001b[1;33m\u001b[0m\u001b[0m\n",
      "\u001b[1;32m~\\anaconda3\\lib\\site-packages\\pandas\\core\\series.py\u001b[0m in \u001b[0;36m__getitem__\u001b[1;34m(self, key)\u001b[0m\n\u001b[0;32m    869\u001b[0m         \u001b[0mkey\u001b[0m \u001b[1;33m=\u001b[0m \u001b[0mcom\u001b[0m\u001b[1;33m.\u001b[0m\u001b[0mapply_if_callable\u001b[0m\u001b[1;33m(\u001b[0m\u001b[0mkey\u001b[0m\u001b[1;33m,\u001b[0m \u001b[0mself\u001b[0m\u001b[1;33m)\u001b[0m\u001b[1;33m\u001b[0m\u001b[1;33m\u001b[0m\u001b[0m\n\u001b[0;32m    870\u001b[0m         \u001b[1;32mtry\u001b[0m\u001b[1;33m:\u001b[0m\u001b[1;33m\u001b[0m\u001b[1;33m\u001b[0m\u001b[0m\n\u001b[1;32m--> 871\u001b[1;33m             \u001b[0mresult\u001b[0m \u001b[1;33m=\u001b[0m \u001b[0mself\u001b[0m\u001b[1;33m.\u001b[0m\u001b[0mindex\u001b[0m\u001b[1;33m.\u001b[0m\u001b[0mget_value\u001b[0m\u001b[1;33m(\u001b[0m\u001b[0mself\u001b[0m\u001b[1;33m,\u001b[0m \u001b[0mkey\u001b[0m\u001b[1;33m)\u001b[0m\u001b[1;33m\u001b[0m\u001b[1;33m\u001b[0m\u001b[0m\n\u001b[0m\u001b[0;32m    872\u001b[0m \u001b[1;33m\u001b[0m\u001b[0m\n\u001b[0;32m    873\u001b[0m             \u001b[1;32mif\u001b[0m \u001b[1;32mnot\u001b[0m \u001b[0mis_scalar\u001b[0m\u001b[1;33m(\u001b[0m\u001b[0mresult\u001b[0m\u001b[1;33m)\u001b[0m\u001b[1;33m:\u001b[0m\u001b[1;33m\u001b[0m\u001b[1;33m\u001b[0m\u001b[0m\n",
      "\u001b[1;32m~\\anaconda3\\lib\\site-packages\\pandas\\core\\indexes\\base.py\u001b[0m in \u001b[0;36mget_value\u001b[1;34m(self, series, key)\u001b[0m\n\u001b[0;32m   4403\u001b[0m         \u001b[0mk\u001b[0m \u001b[1;33m=\u001b[0m \u001b[0mself\u001b[0m\u001b[1;33m.\u001b[0m\u001b[0m_convert_scalar_indexer\u001b[0m\u001b[1;33m(\u001b[0m\u001b[0mk\u001b[0m\u001b[1;33m,\u001b[0m \u001b[0mkind\u001b[0m\u001b[1;33m=\u001b[0m\u001b[1;34m\"getitem\"\u001b[0m\u001b[1;33m)\u001b[0m\u001b[1;33m\u001b[0m\u001b[1;33m\u001b[0m\u001b[0m\n\u001b[0;32m   4404\u001b[0m         \u001b[1;32mtry\u001b[0m\u001b[1;33m:\u001b[0m\u001b[1;33m\u001b[0m\u001b[1;33m\u001b[0m\u001b[0m\n\u001b[1;32m-> 4405\u001b[1;33m             \u001b[1;32mreturn\u001b[0m \u001b[0mself\u001b[0m\u001b[1;33m.\u001b[0m\u001b[0m_engine\u001b[0m\u001b[1;33m.\u001b[0m\u001b[0mget_value\u001b[0m\u001b[1;33m(\u001b[0m\u001b[0ms\u001b[0m\u001b[1;33m,\u001b[0m \u001b[0mk\u001b[0m\u001b[1;33m,\u001b[0m \u001b[0mtz\u001b[0m\u001b[1;33m=\u001b[0m\u001b[0mgetattr\u001b[0m\u001b[1;33m(\u001b[0m\u001b[0mseries\u001b[0m\u001b[1;33m.\u001b[0m\u001b[0mdtype\u001b[0m\u001b[1;33m,\u001b[0m \u001b[1;34m\"tz\"\u001b[0m\u001b[1;33m,\u001b[0m \u001b[1;32mNone\u001b[0m\u001b[1;33m)\u001b[0m\u001b[1;33m)\u001b[0m\u001b[1;33m\u001b[0m\u001b[1;33m\u001b[0m\u001b[0m\n\u001b[0m\u001b[0;32m   4406\u001b[0m         \u001b[1;32mexcept\u001b[0m \u001b[0mKeyError\u001b[0m \u001b[1;32mas\u001b[0m \u001b[0me1\u001b[0m\u001b[1;33m:\u001b[0m\u001b[1;33m\u001b[0m\u001b[1;33m\u001b[0m\u001b[0m\n\u001b[0;32m   4407\u001b[0m             \u001b[1;32mif\u001b[0m \u001b[0mlen\u001b[0m\u001b[1;33m(\u001b[0m\u001b[0mself\u001b[0m\u001b[1;33m)\u001b[0m \u001b[1;33m>\u001b[0m \u001b[1;36m0\u001b[0m \u001b[1;32mand\u001b[0m \u001b[1;33m(\u001b[0m\u001b[0mself\u001b[0m\u001b[1;33m.\u001b[0m\u001b[0mholds_integer\u001b[0m\u001b[1;33m(\u001b[0m\u001b[1;33m)\u001b[0m \u001b[1;32mor\u001b[0m \u001b[0mself\u001b[0m\u001b[1;33m.\u001b[0m\u001b[0mis_boolean\u001b[0m\u001b[1;33m(\u001b[0m\u001b[1;33m)\u001b[0m\u001b[1;33m)\u001b[0m\u001b[1;33m:\u001b[0m\u001b[1;33m\u001b[0m\u001b[1;33m\u001b[0m\u001b[0m\n",
      "\u001b[1;32mpandas\\_libs\\index.pyx\u001b[0m in \u001b[0;36mpandas._libs.index.IndexEngine.get_value\u001b[1;34m()\u001b[0m\n",
      "\u001b[1;32mpandas\\_libs\\index.pyx\u001b[0m in \u001b[0;36mpandas._libs.index.IndexEngine.get_value\u001b[1;34m()\u001b[0m\n",
      "\u001b[1;32mpandas\\_libs\\index.pyx\u001b[0m in \u001b[0;36mpandas._libs.index.IndexEngine.get_loc\u001b[1;34m()\u001b[0m\n",
      "\u001b[1;32mpandas\\_libs\\index_class_helper.pxi\u001b[0m in \u001b[0;36mpandas._libs.index.Int64Engine._check_type\u001b[1;34m()\u001b[0m\n",
      "\u001b[1;31mKeyError\u001b[0m: 'createdAtformatted'"
     ]
    }
   ],
   "source": [
    "df = parler_df['createdAtformatted'][0:10]\n",
    "\n",
    "string = \"2020-11-20\"\n",
    "\n",
    "#nov_2020 = ( (df['createdAtformatted'].str.split('-'))[0] == '2020' & (df['createdAtformatted'].str.split('-'))[1] == '11')\n",
    "#dec_2020 = ( (df['createdAtformatted'].str.split('-'))[0] == '2020' & (df['createdAtformatted'].str.split('-'))[1] == '12')\n",
    "#ian_2021 = ( (df['createdAtformatted'].str.split('-'))[0] == '2021' & (df['createdAtformatted'].str.split('-'))[1] == '01')\n",
    "\n",
    "nov_2020 = ( df['createdAtformatted'].map((str.split('-'))[0] == '2020') )\n",
    "              # & ((df['createdAtformatted'].str.split('-'))[1] == '11') )\n",
    "nov_2020"
   ]
  },
  {
   "cell_type": "code",
   "execution_count": null,
   "metadata": {},
   "outputs": [],
   "source": [
    "typ"
   ]
  },
  {
   "cell_type": "code",
   "execution_count": 78,
   "metadata": {},
   "outputs": [
    {
     "name": "stdout",
     "output_type": "stream",
     "text": [
      "                                                body createdAtformatted\n",
      "0  week anarchist threatened destroy emancipation...         2020-06-26\n",
      "1  happening now alex jones leading crowd trump s...         2020-11-19\n",
      "2                            that president one time         2019-06-06\n",
      "3  former michigan trump campaign director scott ...         2020-11-11\n",
      "4  you all think show like recount genuinely inte...         2020-11-21\n",
      "5  newsmax host rob schmidt attorney sidney powel...         2020-11-23\n",
      "6                                                fbi         2020-12-03\n",
      "7  exminneapolis officer involved floyd death ask...         2020-08-30\n",
      "8  michael flynn tweet jeremiah pardon they fight...         2020-11-26\n",
      "9  see this clear evidence vote flipping dominion...         2020-11-22\n",
      "                                                body createdAtformatted  \\\n",
      "0  week anarchist threatened destroy emancipation...         2020-06-26   \n",
      "1  happening now alex jones leading crowd trump s...         2020-11-19   \n",
      "2                            that president one time         2019-06-06   \n",
      "3  former michigan trump campaign director scott ...         2020-11-11   \n",
      "4  you all think show like recount genuinely inte...         2020-11-21   \n",
      "5  newsmax host rob schmidt attorney sidney powel...         2020-11-23   \n",
      "6                                                fbi         2020-12-03   \n",
      "7  exminneapolis officer involved floyd death ask...         2020-08-30   \n",
      "8  michael flynn tweet jeremiah pardon they fight...         2020-11-26   \n",
      "9  see this clear evidence vote flipping dominion...         2020-11-22   \n",
      "\n",
      "   appropiateDate  \n",
      "0           False  \n",
      "1            True  \n",
      "2           False  \n",
      "3            True  \n",
      "4            True  \n",
      "5            True  \n",
      "6            True  \n",
      "7           False  \n",
      "8            True  \n",
      "9            True  \n",
      "<class 'pandas.core.frame.DataFrame'>\n",
      "RangeIndex: 10 entries, 0 to 9\n",
      "Data columns (total 3 columns):\n",
      " #   Column              Non-Null Count  Dtype \n",
      "---  ------              --------------  ----- \n",
      " 0   body                10 non-null     object\n",
      " 1   createdAtformatted  10 non-null     object\n",
      " 2   appropiateDate      10 non-null     bool  \n",
      "dtypes: bool(1), object(2)\n",
      "memory usage: 298.0+ bytes\n"
     ]
    },
    {
     "name": "stderr",
     "output_type": "stream",
     "text": [
      "<ipython-input-78-99b50b48dfa9>:13: SettingWithCopyWarning: \n",
      "A value is trying to be set on a copy of a slice from a DataFrame.\n",
      "Try using .loc[row_indexer,col_indexer] = value instead\n",
      "\n",
      "See the caveats in the documentation: https://pandas.pydata.org/pandas-docs/stable/user_guide/indexing.html#returning-a-view-versus-a-copy\n",
      "  df['appropiateDate'] = df['createdAtformatted'].apply(check_date)\n"
     ]
    },
    {
     "data": {
      "text/html": [
       "<div>\n",
       "<style scoped>\n",
       "    .dataframe tbody tr th:only-of-type {\n",
       "        vertical-align: middle;\n",
       "    }\n",
       "\n",
       "    .dataframe tbody tr th {\n",
       "        vertical-align: top;\n",
       "    }\n",
       "\n",
       "    .dataframe thead th {\n",
       "        text-align: right;\n",
       "    }\n",
       "</style>\n",
       "<table border=\"1\" class=\"dataframe\">\n",
       "  <thead>\n",
       "    <tr style=\"text-align: right;\">\n",
       "      <th></th>\n",
       "      <th>body</th>\n",
       "      <th>createdAtformatted</th>\n",
       "      <th>appropiateDate</th>\n",
       "    </tr>\n",
       "  </thead>\n",
       "  <tbody>\n",
       "    <tr>\n",
       "      <th>1</th>\n",
       "      <td>happening now alex jones leading crowd trump s...</td>\n",
       "      <td>2020-11-19</td>\n",
       "      <td>True</td>\n",
       "    </tr>\n",
       "    <tr>\n",
       "      <th>3</th>\n",
       "      <td>former michigan trump campaign director scott ...</td>\n",
       "      <td>2020-11-11</td>\n",
       "      <td>True</td>\n",
       "    </tr>\n",
       "    <tr>\n",
       "      <th>4</th>\n",
       "      <td>you all think show like recount genuinely inte...</td>\n",
       "      <td>2020-11-21</td>\n",
       "      <td>True</td>\n",
       "    </tr>\n",
       "    <tr>\n",
       "      <th>5</th>\n",
       "      <td>newsmax host rob schmidt attorney sidney powel...</td>\n",
       "      <td>2020-11-23</td>\n",
       "      <td>True</td>\n",
       "    </tr>\n",
       "    <tr>\n",
       "      <th>6</th>\n",
       "      <td>fbi</td>\n",
       "      <td>2020-12-03</td>\n",
       "      <td>True</td>\n",
       "    </tr>\n",
       "    <tr>\n",
       "      <th>8</th>\n",
       "      <td>michael flynn tweet jeremiah pardon they fight...</td>\n",
       "      <td>2020-11-26</td>\n",
       "      <td>True</td>\n",
       "    </tr>\n",
       "    <tr>\n",
       "      <th>9</th>\n",
       "      <td>see this clear evidence vote flipping dominion...</td>\n",
       "      <td>2020-11-22</td>\n",
       "      <td>True</td>\n",
       "    </tr>\n",
       "  </tbody>\n",
       "</table>\n",
       "</div>"
      ],
      "text/plain": [
       "                                                body createdAtformatted  \\\n",
       "1  happening now alex jones leading crowd trump s...         2020-11-19   \n",
       "3  former michigan trump campaign director scott ...         2020-11-11   \n",
       "4  you all think show like recount genuinely inte...         2020-11-21   \n",
       "5  newsmax host rob schmidt attorney sidney powel...         2020-11-23   \n",
       "6                                                fbi         2020-12-03   \n",
       "8  michael flynn tweet jeremiah pardon they fight...         2020-11-26   \n",
       "9  see this clear evidence vote flipping dominion...         2020-11-22   \n",
       "\n",
       "   appropiateDate  \n",
       "1            True  \n",
       "3            True  \n",
       "4            True  \n",
       "5            True  \n",
       "6            True  \n",
       "8            True  \n",
       "9            True  "
      ]
     },
     "execution_count": 78,
     "metadata": {},
     "output_type": "execute_result"
    }
   ],
   "source": [
    "def check_date(string):\n",
    "    if ( (((string.split('-'))[0] == '2020') and ((string.split('-'))[1] == '11'))          # November 2020\n",
    "        or (((string.split('-'))[0] == '2020') and ((string.split('-'))[1] == '12'))        # December 2020\n",
    "        or (((string.split('-'))[0] == '2021') and ((string.split('-'))[1] == '01')) ):     # January  2021\n",
    "            return True\n",
    "    return False\n",
    "\n",
    "string = \"2021-01-11\"\n",
    "checkDate(string)\n",
    "\n",
    "df = parler_df[0:10]\n",
    "print(df)\n",
    "df['appropiateDate'] = df['createdAtformatted'].apply(check_date)\n",
    "print(df)\n",
    "df.info()\n",
    "\n",
    "df = df[df['appropiateDate'] == True]\n",
    "# df = df.drop(df[df['appropiateDate'] == False])\n",
    "df"
   ]
  },
  {
   "cell_type": "code",
   "execution_count": 29,
   "metadata": {},
   "outputs": [
    {
     "name": "stdout",
     "output_type": "stream",
     "text": [
      "2020\n"
     ]
    }
   ],
   "source": [
    "\n",
    "df = df[df['createdAtformatted'].str.split('-'))[0]) == ]\n",
    "\n",
    "# df2 = df['createdAtformatted'].str.split(n = 0, expand = False).str[0]\n",
    "# df2\n",
    "\n",
    "string = \"2020-07-20\"\n",
    "print((string.split('-'))[0])\n",
    "list = (string.split('-'))\n",
    "#list[0]\n",
    "#list[1]"
   ]
  },
  {
   "cell_type": "code",
   "execution_count": 93,
   "metadata": {},
   "outputs": [
    {
     "ename": "TypeError",
     "evalue": "'str' object is not callable",
     "output_type": "error",
     "traceback": [
      "\u001b[1;31m---------------------------------------------------------------------------\u001b[0m",
      "\u001b[1;31mTypeError\u001b[0m                                 Traceback (most recent call last)",
      "\u001b[1;32m<ipython-input-93-07541fd15803>\u001b[0m in \u001b[0;36m<module>\u001b[1;34m\u001b[0m\n\u001b[0;32m     10\u001b[0m     \u001b[1;32mreturn\u001b[0m \u001b[1;32mFalse\u001b[0m\u001b[1;33m\u001b[0m\u001b[1;33m\u001b[0m\u001b[0m\n\u001b[0;32m     11\u001b[0m \u001b[1;33m\u001b[0m\u001b[0m\n\u001b[1;32m---> 12\u001b[1;33m \u001b[0mprint\u001b[0m\u001b[1;33m(\u001b[0m\u001b[1;34m'Dimension of dataframe before: '\u001b[0m \u001b[1;33m+\u001b[0m \u001b[0mstr\u001b[0m\u001b[1;33m(\u001b[0m\u001b[0mparler_df\u001b[0m\u001b[1;33m.\u001b[0m\u001b[0mshape\u001b[0m\u001b[1;33m)\u001b[0m\u001b[1;33m)\u001b[0m\u001b[1;33m\u001b[0m\u001b[1;33m\u001b[0m\u001b[0m\n\u001b[0m\u001b[0;32m     13\u001b[0m \u001b[0mparler_df\u001b[0m\u001b[1;33m\u001b[0m\u001b[1;33m\u001b[0m\u001b[0m\n\u001b[0;32m     14\u001b[0m \u001b[1;33m\u001b[0m\u001b[0m\n",
      "\u001b[1;31mTypeError\u001b[0m: 'str' object is not callable"
     ]
    }
   ],
   "source": [
    "# 4. Filter out tweets not in relevant time period = dimension reduction (rows) -> only Nov 2020, Dec 2020 and Jan 2021 left\n",
    "\n",
    "def check_date(string):\n",
    "    if ( (((string.split('-'))[0] == '2020') and ((string.split('-'))[1] == '11'))          # November 2020\n",
    "        or (((string.split('-'))[0] == '2020') and ((string.split('-'))[1] == '12'))        # December 2020\n",
    "        or (((string.split('-'))[0] == '2021') and ((string.split('-'))[1] == '01')) ):     # January  2021\n",
    "            return True\n",
    "    return False\n",
    "\n",
    "print('Dimension of dataframe before: ' + str(parler_df.shape)) \n",
    "parler_df\n",
    "\n",
    "parler_df['appropiateDate'] = parler_df['createdAtformatted'].apply(check_date)\n",
    "# parler_df.drop(parler_df[parler_df['appropiateDate'] == False].index, inplace=True)\n",
    "parler_df = parler_df[parler_df['appropiateDate'] == True]\n",
    "parler_df.drop(['appropiateDate'], inplace = True, axis = 1)          \n",
    "\n",
    "print('Dimension of dataframe with tweets from relevant time period only: ' + str(parler_df.shape)) \n",
    "parler_df"
   ]
  },
  {
   "cell_type": "code",
   "execution_count": 100,
   "metadata": {},
   "outputs": [
    {
     "name": "stdout",
     "output_type": "stream",
     "text": [
      "                                                     body createdAtformatted\n",
      "0                       professor like pot head gone meth         2020-12-13\n",
      "1                                    need spread news ann         2020-12-10\n",
      "2                        fuck yes fire loser non american         2020-11-12\n",
      "3                                          hang pedophile         2020-12-25\n",
      "4       ivanka must sex love deprived human being ever...         2020-12-08\n",
      "...                                                   ...                ...\n",
      "286564  ugly alcoholic sit bar keep picking last guy t...         2020-12-23\n",
      "286565                                               boom         2020-11-02\n",
      "286566  exactly think every time see john robert smirk...         2020-12-25\n",
      "286567                                     twat term twat         2020-11-18\n",
      "286568                                               love         2020-12-20\n",
      "\n",
      "[286569 rows x 2 columns]\n",
      "                                                     body createdAtformatted\n",
      "2                        fuck yes fire loser non american         2020-11-12\n",
      "5                                      redparty send info         2020-11-25\n",
      "7       jenelleeason better not tell commie trash frie...         2020-11-15\n",
      "8       metamorphys take blocking win closed minded he...         2020-11-07\n",
      "10              metroswift mama nazi whore that paid xbox         2020-11-24\n",
      "...                                                   ...                ...\n",
      "286558                      fredo fredo fredo broke heart         2020-11-13\n",
      "286561              today november still feel slow reason         2020-11-07\n",
      "286563                                      report parler         2020-11-21\n",
      "286565                                               boom         2020-11-02\n",
      "286567                                     twat term twat         2020-11-18\n",
      "\n",
      "[164948 rows x 2 columns]\n",
      "                                                     body createdAtformatted\n",
      "0                       professor like pot head gone meth         2020-12-13\n",
      "1                                    need spread news ann         2020-12-10\n",
      "3                                          hang pedophile         2020-12-25\n",
      "4       ivanka must sex love deprived human being ever...         2020-12-08\n",
      "6                                       cjsteeler disable         2020-12-18\n",
      "...                                                   ...                ...\n",
      "286559  think cheating democrat crazy judge idea messi...         2020-12-12\n",
      "286562  fauciisafraud arrestfauci fauciisatraitor figh...         2020-12-20\n",
      "286564  ugly alcoholic sit bar keep picking last guy t...         2020-12-23\n",
      "286566  exactly think every time see john robert smirk...         2020-12-25\n",
      "286568                                               love         2020-12-20\n",
      "\n",
      "[93916 rows x 2 columns]\n",
      "                                                     body createdAtformatted\n",
      "18                                             biden pedo         2021-01-07\n",
      "58      qanonsense know shock not need government look...         2021-01-02\n",
      "64                       sjwhunter fucked should have cap         2021-01-08\n",
      "81                        presidentbiden life bring pussy         2021-01-01\n",
      "83                                               snailman         2021-01-05\n",
      "...                                                   ...                ...\n",
      "286504         thelaststronghold antizionist business you         2021-01-02\n",
      "286539  dang moron notice picked older people alone ne...         2021-01-02\n",
      "286541                         watch want info whatstrump         2021-01-07\n",
      "286556                                  evil vile monster         2021-01-09\n",
      "286560                        remove treasonous snake den         2021-01-04\n",
      "\n",
      "[27705 rows x 2 columns]\n"
     ]
    },
    {
     "name": "stderr",
     "output_type": "stream",
     "text": [
      "C:\\Users\\cosmi\\anaconda3\\lib\\site-packages\\pandas\\core\\frame.py:3990: SettingWithCopyWarning: \n",
      "A value is trying to be set on a copy of a slice from a DataFrame\n",
      "\n",
      "See the caveats in the documentation: https://pandas.pydata.org/pandas-docs/stable/user_guide/indexing.html#returning-a-view-versus-a-copy\n",
      "  return super().drop(\n",
      "C:\\Users\\cosmi\\anaconda3\\lib\\site-packages\\pandas\\core\\frame.py:3990: SettingWithCopyWarning: \n",
      "A value is trying to be set on a copy of a slice from a DataFrame\n",
      "\n",
      "See the caveats in the documentation: https://pandas.pydata.org/pandas-docs/stable/user_guide/indexing.html#returning-a-view-versus-a-copy\n",
      "  return super().drop(\n",
      "C:\\Users\\cosmi\\anaconda3\\lib\\site-packages\\pandas\\core\\frame.py:3990: SettingWithCopyWarning: \n",
      "A value is trying to be set on a copy of a slice from a DataFrame\n",
      "\n",
      "See the caveats in the documentation: https://pandas.pydata.org/pandas-docs/stable/user_guide/indexing.html#returning-a-view-versus-a-copy\n",
      "  return super().drop(\n"
     ]
    }
   ],
   "source": [
    "import pandas as pd\n",
    "\n",
    "parler_df = pd.read_csv('C:\\\\Users\\\\cosmi\\\\Desktop\\\\ANDREEA\\\\bachelors-thesis\\\\parler_df_030_dates.csv')\n",
    "parler_df\n",
    "\n",
    "\n",
    "# 19. Save pandas dataframes for each month after preprocessing without index as CSV file\n",
    "\n",
    "def check_month(date):\n",
    "    if (((date.split('-'))[0] == '2020') and ((date.split('-'))[1] == '11')):  # November 2020\n",
    "        return 'nov'\n",
    "    elif (((date.split('-'))[0] == '2020') and ((date.split('-'))[1] == '12')):  # December 2020\n",
    "        return 'dec'\n",
    "    else:\n",
    "        return 'ian' # January  2021\n",
    "       \n",
    "\n",
    "# print('Dimension of dataframe before: ' + str(parler_df.shape)) \n",
    "print(parler_df)\n",
    "\n",
    "parler_df['month'] = parler_df['createdAtformatted'].apply(check_month)\n",
    "parler_df_nov = parler_df[parler_df['month'] == 'nov']\n",
    "parler_df_nov.drop(['month'], inplace = True, axis = 1) \n",
    "print(parler_df_nov)\n",
    "parler_df_dec = parler_df[parler_df['month'] == 'dec']\n",
    "parler_df_dec.drop(['month'], inplace = True, axis = 1)   \n",
    "print(parler_df_dec)\n",
    "parler_df_ian = parler_df[parler_df['month'] == 'ian']  \n",
    "parler_df_ian.drop(['month'], inplace = True, axis = 1) \n",
    "print(parler_df_ian)\n",
    "\n",
    "# parler_df_nov.to_csv('parler_df_030_dates_nov.csv', index=False)\n",
    "# parler_df_dec.to_csv('parler_df_030_dates_dec.csv', index=False)\n",
    "# parler_df_ian.to_csv('parler_df_030_dates_ian.csv', index=False)\n"
   ]
  }
 ],
 "metadata": {
  "kernelspec": {
   "display_name": "Python 3",
   "language": "python",
   "name": "python3"
  },
  "language_info": {
   "codemirror_mode": {
    "name": "ipython",
    "version": 3
   },
   "file_extension": ".py",
   "mimetype": "text/x-python",
   "name": "python",
   "nbconvert_exporter": "python",
   "pygments_lexer": "ipython3",
   "version": "3.8.3"
  }
 },
 "nbformat": 4,
 "nbformat_minor": 5
}
