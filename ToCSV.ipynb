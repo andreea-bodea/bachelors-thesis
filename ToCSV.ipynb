{
 "cells": [
  {
   "cell_type": "code",
   "execution_count": 1,
   "metadata": {},
   "outputs": [],
   "source": [
    "# Dataset reading, preprocessing and saving as csv\n",
    "\n",
    "import json\n",
    "import pandas as pd \n",
    "import numpy as np\n",
    "\n",
    "# read json file as dataframe\n",
    "parler_df = pd.read_json('D:\\\\bachelors_thesis\\Datasets\\parler_data\\parler_data000000000001.ndjson', lines = True) "
   ]
  },
  {
   "cell_type": "code",
   "execution_count": 2,
   "metadata": {},
   "outputs": [
    {
     "name": "stdout",
     "output_type": "stream",
     "text": [
      "Index(['comments', 'body', 'bodywithurls', 'createdAt', 'createdAtformatted',\n",
      "       'creator', 'datatype', 'depth', 'depthRaw', 'followers', 'following',\n",
      "       'hashtags', 'id', 'lastseents', 'links', 'media', 'posts', 'sensitive',\n",
      "       'shareLink', 'upvotes', 'urls', 'username', 'verified', 'article',\n",
      "       'impressions', 'preview', 'reposts', 'state', 'parent', 'color',\n",
      "       'commentDepth', 'controversy', 'downvotes', 'post', 'score',\n",
      "       'isPrimary', 'conversation', 'replyingTo'],\n",
      "      dtype='object')\n",
      "Dimension of whole dataframe: (1095287, 38)\n",
      "\n",
      "Index(['body'], dtype='object')\n",
      "Dimension of dataframe after removing columns: (1095287, 1)\n",
      "\n"
     ]
    }
   ],
   "source": [
    "# remove columns  \n",
    "\n",
    "print(parler_df.columns)\n",
    "print('Dimension of whole dataframe: ' + str(parler_df.shape) + '\\n') # df.shape -> (rows, columns)\n",
    "\n",
    "# final_df_1 = pd.DataFrame()\n",
    "# final_df_1['body'] = df['body'].copy()\n",
    "# final_df_1['createdAtformatted'] = df['createdAtformatted'].copy()\n",
    "parler_df.drop(parler_df.iloc[:, 2:38], inplace = True, axis = 1) # remove all columns between column index 2 to 38\n",
    "parler_df.drop(['comments'], inplace = True, axis = 1) # remove first column\n",
    "\n",
    "print(parler_df.columns)\n",
    "print('Dimension of dataframe after removing columns: ' + str(parler_df.shape) + '\\n')"
   ]
  },
  {
   "cell_type": "code",
   "execution_count": 3,
   "metadata": {},
   "outputs": [
    {
     "name": "stdout",
     "output_type": "stream",
     "text": [
      "Dimension of dataframe: (1095287, 1)\n",
      "0          ‪ CHILLS! \\n\\nI loved hearing Airforce Technic...\n",
      "1                                                           \n",
      "2          Justice Department Zeroes In On Cuomo's COVID ...\n",
      "3          Interesting how ultra-liberal, hysterical, Hol...\n",
      "4          Petraeus Says Trump May Have Restored U.S. 'De...\n",
      "                                 ...                        \n",
      "1095282    I just shared this to \"Chrissy\" Wallace's FB m...\n",
      "1095283                           What have you got to lose?\n",
      "1095284                                                     \n",
      "1095285    So... are we gonna talk about the fact that on...\n",
      "1095286                                                     \n",
      "Name: body, Length: 1095287, dtype: object\n",
      "\n",
      "Dimension of dataframe after filtering out null values: (636482, 1)\n",
      "0          ‪ CHILLS! \\n\\nI loved hearing Airforce Technic...\n",
      "2          Justice Department Zeroes In On Cuomo's COVID ...\n",
      "3          Interesting how ultra-liberal, hysterical, Hol...\n",
      "4          Petraeus Says Trump May Have Restored U.S. 'De...\n",
      "5          Hillary Clinton Calls Bernie Sanders a Sore Lo...\n",
      "                                 ...                        \n",
      "1095275    SHE WANTS ANOTHER BENGHAZI and TO MURDER MORE ...\n",
      "1095281                       🇺🇸❤️🇺🇸❤️🙏🏻 #trump2020landslide\n",
      "1095282    I just shared this to \"Chrissy\" Wallace's FB m...\n",
      "1095283                           What have you got to lose?\n",
      "1095285    So... are we gonna talk about the fact that on...\n",
      "Name: body, Length: 636482, dtype: object\n"
     ]
    }
   ],
   "source": [
    "# filter out null values\n",
    "\n",
    "print('Dimension of dataframe: ' + str(parler_df.shape)) \n",
    "print(parler_df['body']) \n",
    "\n",
    "parler_df['body'].replace(\"\", np.nan, inplace=True)\n",
    "parler_df.dropna(subset=['body'], inplace=True)\n",
    "\n",
    "print('\\n'  + 'Dimension of dataframe after filtering out null values: ' + str(parler_df.shape)) \n",
    "print(parler_df['body'])"
   ]
  },
  {
   "cell_type": "code",
   "execution_count": 4,
   "metadata": {},
   "outputs": [],
   "source": [
    "parler_df.to_csv('parler_df_1_before.csv')"
   ]
  },
  {
   "cell_type": "code",
   "execution_count": 5,
   "metadata": {},
   "outputs": [
    {
     "name": "stdout",
     "output_type": "stream",
     "text": [
      "0          ‪ CHILLS! \\n\\nI loved hearing Airforce Technic...\n",
      "2          Justice Department Zeroes In On Cuomo's COVID ...\n",
      "3          Interesting how ultra-liberal, hysterical, Hol...\n",
      "4          Petraeus Says Trump May Have Restored U.S. 'De...\n",
      "5          Hillary Clinton Calls Bernie Sanders a Sore Lo...\n",
      "                                 ...                        \n",
      "1095275    SHE WANTS ANOTHER BENGHAZI and TO MURDER MORE ...\n",
      "1095281                       🇺🇸❤️🇺🇸❤️🙏🏻 #trump2020landslide\n",
      "1095282    I just shared this to \"Chrissy\" Wallace's FB m...\n",
      "1095283                           What have you got to lose?\n",
      "1095285    So... are we gonna talk about the fact that on...\n",
      "Name: body, Length: 636482, dtype: object\n",
      "0          ‪ chills! i loved hearing airforce technical s...\n",
      "2          justice department zeroes in on cuomo's covid ...\n",
      "3          interesting how ultra-liberal, hysterical, hol...\n",
      "4          petraeus says trump may have restored u.s. 'de...\n",
      "5          hillary clinton calls bernie sanders a sore lo...\n",
      "                                 ...                        \n",
      "1095275    she wants another benghazi and to murder more ...\n",
      "1095281                       🇺🇸❤️🇺🇸❤️🙏🏻 #trump2020landslide\n",
      "1095282    i just shared this to \"chrissy\" wallace's fb m...\n",
      "1095283                           what have you got to lose?\n",
      "1095285    so... are we gonna talk about the fact that on...\n",
      "Name: body, Length: 636482, dtype: object\n"
     ]
    }
   ],
   "source": [
    "# convert to lowercase\n",
    "\n",
    "print(parler_df['body'])\n",
    "parler_df['body'] = parler_df['body'].apply(lambda x: ' '.join([w.lower() for w in x.split()]))\n",
    "print(parler_df['body'])"
   ]
  },
  {
   "cell_type": "code",
   "execution_count": 6,
   "metadata": {},
   "outputs": [
    {
     "name": "stdout",
     "output_type": "stream",
     "text": [
      "0          ‪ chills! i loved hearing airforce technical s...\n",
      "2          justice department zeroes in on cuomo's covid ...\n",
      "3          interesting how ultra-liberal, hysterical, hol...\n",
      "4          petraeus says trump may have restored u.s. 'de...\n",
      "5          hillary clinton calls bernie sanders a sore lo...\n",
      "                                 ...                        \n",
      "1095275    she wants another benghazi and to murder more ...\n",
      "1095281                       🇺🇸❤️🇺🇸❤️🙏🏻 #trump2020landslide\n",
      "1095282    i just shared this to \"chrissy\" wallace's fb m...\n",
      "1095283                           what have you got to lose?\n",
      "1095285    so... are we gonna talk about the fact that on...\n",
      "Name: body, Length: 636482, dtype: object\n",
      "0          ‪ chills! i loved hearing airforce technical s...\n",
      "2          justice department zeroes in on cuomo's covid ...\n",
      "3          interesting how ultra-liberal, hysterical, hol...\n",
      "4          petraeus says trump may have restored u.s. 'de...\n",
      "5          hillary clinton calls bernie sanders a sore lo...\n",
      "                                 ...                        \n",
      "1095275    she wants another benghazi and to murder more ...\n",
      "1095281                                  #trump2020landslide\n",
      "1095282    i just shared this to \"chrissy\" wallace's fb m...\n",
      "1095283                           what have you got to lose?\n",
      "1095285    so... are we gonna talk about the fact that on...\n",
      "Name: body, Length: 636482, dtype: object\n"
     ]
    }
   ],
   "source": [
    "# remove emojis\n",
    "\n",
    "import demoji\n",
    "print(parler_df['body'])\n",
    "parler_df['body'] = parler_df['body'].apply(lambda x: demoji.replace(x, \"\"))\n",
    "print(parler_df['body'])"
   ]
  },
  {
   "cell_type": "code",
   "execution_count": 7,
   "metadata": {},
   "outputs": [
    {
     "name": "stdout",
     "output_type": "stream",
     "text": [
      "0          ‪ chills! i loved hearing airforce technical s...\n",
      "2          justice department zeroes in on cuomo's covid ...\n",
      "3          interesting how ultra-liberal, hysterical, hol...\n",
      "4          petraeus says trump may have restored u.s. 'de...\n",
      "5          hillary clinton calls bernie sanders a sore lo...\n",
      "                                 ...                        \n",
      "1095275    she wants another benghazi and to murder more ...\n",
      "1095281                                  #trump2020landslide\n",
      "1095282    i just shared this to \"chrissy\" wallace's fb m...\n",
      "1095283                           what have you got to lose?\n",
      "1095285    so... are we gonna talk about the fact that on...\n",
      "Name: body, Length: 636482, dtype: object\n",
      "0          ‪ chills! i loved hearing airforce technical s...\n",
      "2          justice department zeroes in on cuomo's covid ...\n",
      "3          interesting how ultra-liberal, hysterical, hol...\n",
      "4          petraeus says trump may have restored you.s. '...\n",
      "5          hillary clinton calls bernie sanders a sore lo...\n",
      "                                 ...                        \n",
      "1095275    she wants another benghazi and to murder more ...\n",
      "1095281                                  #trump2020landslide\n",
      "1095282    i just shared this to \"chrissy\" wallace's fb m...\n",
      "1095283                           what have you got to lose?\n",
      "1095285    so... are we going to talk about the fact that...\n",
      "Name: body, Length: 636482, dtype: object\n"
     ]
    }
   ],
   "source": [
    "# expand contractions  \n",
    "\n",
    "import contractions\n",
    "print(parler_df['body'])\n",
    "parler_df['body'] = parler_df['body'].apply(lambda x: ' '.join([contractions.fix(word) for word in x.split()]))\n",
    "print(parler_df['body'])"
   ]
  },
  {
   "cell_type": "code",
   "execution_count": 8,
   "metadata": {},
   "outputs": [
    {
     "name": "stdout",
     "output_type": "stream",
     "text": [
      "0          ‪ chills! i loved hearing airforce technical s...\n",
      "2          justice department zeroes in on cuomo's covid ...\n",
      "3          interesting how ultra-liberal, hysterical, hol...\n",
      "4          petraeus says trump may have restored you.s. '...\n",
      "5          hillary clinton calls bernie sanders a sore lo...\n",
      "                                 ...                        \n",
      "1095275    she wants another benghazi and to murder more ...\n",
      "1095281                                  #trump2020landslide\n",
      "1095282    i just shared this to \"chrissy\" wallace's fb m...\n",
      "1095283                           what have you got to lose?\n",
      "1095285    so... are we going to talk about the fact that...\n",
      "Name: body, Length: 636482, dtype: object\n",
      "0          chills i loved hearing airforce technical sgt ...\n",
      "2          justice department zeroes in on cuomo s covid ...\n",
      "3          interesting how ultra liberal hysterical holly...\n",
      "4          petraeus says trump may have restored you s de...\n",
      "5          hillary clinton calls bernie sanders a sore lo...\n",
      "                                 ...                        \n",
      "1095275    she wants another benghazi and to murder more ...\n",
      "1095281                                      trump landslide\n",
      "1095282    i just shared this to chrissy wallace s fb mes...\n",
      "1095283                            what have you got to lose\n",
      "1095285    so are we going to talk about the fact that on...\n",
      "Name: body, Length: 636482, dtype: object\n"
     ]
    }
   ],
   "source": [
    "# remove numbers\n",
    "\n",
    "import re\n",
    "print(parler_df['body'])\n",
    "parler_df['body'] = parler_df['body'].apply(lambda x: ' '.join(re.sub(\"[^a-zA-Z]+\", \" \", x).split()))\n",
    "print(parler_df['body'])"
   ]
  },
  {
   "cell_type": "code",
   "execution_count": 9,
   "metadata": {},
   "outputs": [
    {
     "name": "stdout",
     "output_type": "stream",
     "text": [
      "0          chills i loved hearing airforce technical sgt ...\n",
      "2          justice department zeroes in on cuomo s covid ...\n",
      "3          interesting how ultra liberal hysterical holly...\n",
      "4          petraeus says trump may have restored you s de...\n",
      "5          hillary clinton calls bernie sanders a sore lo...\n",
      "                                 ...                        \n",
      "1095275    she wants another benghazi and to murder more ...\n",
      "1095281                                      trump landslide\n",
      "1095282    i just shared this to chrissy wallace s fb mes...\n",
      "1095283                            what have you got to lose\n",
      "1095285    so are we going to talk about the fact that on...\n",
      "Name: body, Length: 636482, dtype: object\n",
      "0          chills i loved hearing airforce technical sgt ...\n",
      "2          justice department zeroes in on cuomo s covid ...\n",
      "3          interesting how ultra liberal hysterical holly...\n",
      "4          petraeus says trump may have restored you s de...\n",
      "5          hillary clinton calls bernie sanders a sore lo...\n",
      "                                 ...                        \n",
      "1095275    she wants another benghazi and to murder more ...\n",
      "1095281                                      trump landslide\n",
      "1095282    i just shared this to chrissy wallace s fb mes...\n",
      "1095283                            what have you got to lose\n",
      "1095285    so are we going to talk about the fact that on...\n",
      "Name: body, Length: 636482, dtype: object\n"
     ]
    }
   ],
   "source": [
    "# remove punctuation\n",
    "\n",
    "import string \n",
    "print(parler_df['body'])\n",
    "parler_df['body'] = parler_df['body'].apply(lambda x: ''.join([i for i in x if i not in string.punctuation]))\n",
    "print(parler_df['body'])"
   ]
  },
  {
   "cell_type": "code",
   "execution_count": 10,
   "metadata": {},
   "outputs": [
    {
     "name": "stderr",
     "output_type": "stream",
     "text": [
      "[nltk_data] Downloading package wordnet to\n",
      "[nltk_data]     C:\\Users\\cosmi\\AppData\\Roaming\\nltk_data...\n",
      "[nltk_data]   Package wordnet is already up-to-date!\n"
     ]
    },
    {
     "data": {
      "text/plain": [
       "True"
      ]
     },
     "execution_count": 10,
     "metadata": {},
     "output_type": "execute_result"
    }
   ],
   "source": [
    "import nltk\n",
    "from nltk.stem import WordNetLemmatizer, SnowballStemmer\n",
    "from nltk.stem.porter import *\n",
    "from nltk.corpus import stopwords\n",
    "stop_words = stopwords.words('english')\n",
    "nltk.download('wordnet')"
   ]
  },
  {
   "cell_type": "code",
   "execution_count": 11,
   "metadata": {},
   "outputs": [
    {
     "name": "stdout",
     "output_type": "stream",
     "text": [
      "0          chills i loved hearing airforce technical sgt ...\n",
      "2          justice department zeroes in on cuomo s covid ...\n",
      "3          interesting how ultra liberal hysterical holly...\n",
      "4          petraeus says trump may have restored you s de...\n",
      "5          hillary clinton calls bernie sanders a sore lo...\n",
      "                                 ...                        \n",
      "1095275    she wants another benghazi and to murder more ...\n",
      "1095281                                      trump landslide\n",
      "1095282    i just shared this to chrissy wallace s fb mes...\n",
      "1095283                            what have you got to lose\n",
      "1095285    so are we going to talk about the fact that on...\n",
      "Name: body, Length: 636482, dtype: object\n",
      "0          chills loved hearing airforce technical sgt na...\n",
      "2                justice department zeroes cuomo covid cover\n",
      "3          interesting ultra liberal hysterical hollywood...\n",
      "4          petraeus says trump may restored deterrence ki...\n",
      "5          hillary clinton calls bernie sanders sore lose...\n",
      "                                 ...                        \n",
      "1095275    wants another benghazi murder navy seals outra...\n",
      "1095281                                      trump landslide\n",
      "1095282                  shared chrissy wallace fb messenger\n",
      "1095283                                             got lose\n",
      "1095285    going talk fact one five mail ballots new jers...\n",
      "Name: body, Length: 636482, dtype: object\n"
     ]
    }
   ],
   "source": [
    "# remove stopwords\n",
    "\n",
    "print(parler_df['body'])\n",
    "stopwords = [sw for sw in nltk.corpus.stopwords.words('english') if sw not in ['not', 'no']]\n",
    "stop_words.extend(['from', 'subject', 're', 'edu', 'use'])\n",
    "parler_df['body'] = parler_df['body'].apply(lambda x: ' '.join([w for w in x.split() if w not in stopwords]))\n",
    "print(parler_df['body'])"
   ]
  },
  {
   "cell_type": "code",
   "execution_count": 12,
   "metadata": {},
   "outputs": [
    {
     "name": "stdout",
     "output_type": "stream",
     "text": [
      "0          chills loved hearing airforce technical sgt na...\n",
      "2                justice department zeroes cuomo covid cover\n",
      "3          interesting ultra liberal hysterical hollywood...\n",
      "4          petraeus says trump may restored deterrence ki...\n",
      "5          hillary clinton calls bernie sanders sore lose...\n",
      "                                 ...                        \n",
      "1095275    wants another benghazi murder navy seals outra...\n",
      "1095281                                      trump landslide\n",
      "1095282                  shared chrissy wallace fb messenger\n",
      "1095283                                             got lose\n",
      "1095285    going talk fact one five mail ballots new jers...\n",
      "Name: body, Length: 636482, dtype: object\n",
      "0          chill loved hearing airforce technical sgt nal...\n",
      "2                  justice department zero cuomo covid cover\n",
      "3          interesting ultra liberal hysterical hollywood...\n",
      "4          petraeus say trump may restored deterrence kil...\n",
      "5          hillary clinton call bernie sander sore loser ...\n",
      "                                 ...                        \n",
      "1095275    want another benghazi murder navy seal outrageous\n",
      "1095281                                      trump landslide\n",
      "1095282                  shared chrissy wallace fb messenger\n",
      "1095283                                             got lose\n",
      "1095285    going talk fact one five mail ballot new jerse...\n",
      "Name: body, Length: 636482, dtype: object\n"
     ]
    }
   ],
   "source": [
    "# lemmatization\n",
    "\n",
    "print(parler_df['body'])\n",
    "parler_df['body'] = parler_df['body'].apply(lambda x: ' '.join([WordNetLemmatizer().lemmatize(w) for w in x.split()]))\n",
    "print(parler_df['body'])"
   ]
  },
  {
   "cell_type": "code",
   "execution_count": 13,
   "metadata": {},
   "outputs": [
    {
     "name": "stdout",
     "output_type": "stream",
     "text": [
      "0          chill loved hearing airforce technical sgt nal...\n",
      "2                  justice department zero cuomo covid cover\n",
      "3          interesting ultra liberal hysterical hollywood...\n",
      "4          petraeus say trump may restored deterrence kil...\n",
      "5          hillary clinton call bernie sander sore loser ...\n",
      "                                 ...                        \n",
      "1095275    want another benghazi murder navy seal outrageous\n",
      "1095281                                      trump landslide\n",
      "1095282                  shared chrissy wallace fb messenger\n",
      "1095283                                             got lose\n",
      "1095285    going talk fact one five mail ballot new jerse...\n",
      "Name: body, Length: 636482, dtype: object\n",
      "0          chill loved hearing airforce technical sgt nal...\n",
      "2                  justice department zero cuomo covid cover\n",
      "3          interesting ultra liberal hysterical hollywood...\n",
      "4          petraeus say trump may restored deterrence kil...\n",
      "5          hillary clinton call bernie sander sore loser ...\n",
      "                                 ...                        \n",
      "1095275    want another benghazi murder navy seal outrageous\n",
      "1095281                                      trump landslide\n",
      "1095282                     shared chrissy wallace messenger\n",
      "1095283                                             got lose\n",
      "1095285    going talk fact one five mail ballot new jerse...\n",
      "Name: body, Length: 636482, dtype: object\n"
     ]
    }
   ],
   "source": [
    "# remove short words\n",
    "\n",
    "print(parler_df['body'])\n",
    "parler_df['body'] = parler_df['body'].apply(lambda x: ' '.join([w.strip() for w in x.split() if len(w.strip()) >= 3]))\n",
    "print(parler_df['body'])"
   ]
  },
  {
   "cell_type": "code",
   "execution_count": 14,
   "metadata": {},
   "outputs": [
    {
     "name": "stdout",
     "output_type": "stream",
     "text": [
      "Dimension of dataframe: (636482, 1)\n",
      "0          chill loved hearing airforce technical sgt nal...\n",
      "2                  justice department zero cuomo covid cover\n",
      "3          interesting ultra liberal hysterical hollywood...\n",
      "4          petraeus say trump may restored deterrence kil...\n",
      "5          hillary clinton call bernie sander sore loser ...\n",
      "                                 ...                        \n",
      "1095275    want another benghazi murder navy seal outrageous\n",
      "1095281                                      trump landslide\n",
      "1095282                     shared chrissy wallace messenger\n",
      "1095283                                             got lose\n",
      "1095285    going talk fact one five mail ballot new jerse...\n",
      "Name: body, Length: 636482, dtype: object\n",
      "\n",
      "Dimension of dataframe after preprocessing: (605405, 1)\n",
      "0          chill loved hearing airforce technical sgt nal...\n",
      "2                  justice department zero cuomo covid cover\n",
      "3          interesting ultra liberal hysterical hollywood...\n",
      "4          petraeus say trump may restored deterrence kil...\n",
      "5          hillary clinton call bernie sander sore loser ...\n",
      "                                 ...                        \n",
      "1095275    want another benghazi murder navy seal outrageous\n",
      "1095281                                      trump landslide\n",
      "1095282                     shared chrissy wallace messenger\n",
      "1095283                                             got lose\n",
      "1095285    going talk fact one five mail ballot new jerse...\n",
      "Name: body, Length: 605405, dtype: object\n"
     ]
    }
   ],
   "source": [
    "# filter out null values once more\n",
    "\n",
    "print('Dimension of dataframe: ' + str(parler_df.shape)) \n",
    "print(parler_df['body']) \n",
    "\n",
    "parler_df['body'].replace(\"\", np.nan, inplace=True)\n",
    "parler_df.dropna(subset=['body'], inplace=True)\n",
    "\n",
    "print('\\n'  + 'Dimension of dataframe after preprocessing: ' + str(parler_df.shape)) \n",
    "print(parler_df['body'])"
   ]
  },
  {
   "cell_type": "code",
   "execution_count": 15,
   "metadata": {},
   "outputs": [],
   "source": [
    "parler_df.to_csv('parler_df_1.csv')"
   ]
  }
 ],
 "metadata": {
  "kernelspec": {
   "display_name": "Python 3",
   "language": "python",
   "name": "python3"
  },
  "language_info": {
   "codemirror_mode": {
    "name": "ipython",
    "version": 3
   },
   "file_extension": ".py",
   "mimetype": "text/x-python",
   "name": "python",
   "nbconvert_exporter": "python",
   "pygments_lexer": "ipython3",
   "version": "3.8.3"
  }
 },
 "nbformat": 4,
 "nbformat_minor": 5
}
