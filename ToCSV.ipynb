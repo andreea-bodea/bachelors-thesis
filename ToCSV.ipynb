{
 "cells": [
  {
   "cell_type": "code",
   "execution_count": 1,
   "metadata": {},
   "outputs": [],
   "source": [
    "# Dataset reading, preprocessing and saving as csv\n",
    "\n",
    "import json\n",
    "import pandas as pd \n",
    "import numpy as np\n",
    "\n",
    "# read json file as dataframe\n",
    "parler_df = pd.read_json('D:\\\\bachelors_thesis\\Datasets\\parler_data\\parler_data000000000014.ndjson', lines = True) "
   ]
  },
  {
   "cell_type": "code",
   "execution_count": 2,
   "metadata": {},
   "outputs": [
    {
     "name": "stdout",
     "output_type": "stream",
     "text": [
      "Index(['comments', 'body', 'bodywithurls', 'createdAt', 'createdAtformatted',\n",
      "       'creator', 'datatype', 'depth', 'depthRaw', 'followers', 'following',\n",
      "       'hashtags', 'id', 'lastseents', 'links', 'media', 'posts', 'sensitive',\n",
      "       'shareLink', 'upvotes', 'urls', 'username', 'verified', 'article',\n",
      "       'impressions', 'preview', 'reposts', 'state', 'parent', 'color',\n",
      "       'commentDepth', 'controversy', 'downvotes', 'post', 'score',\n",
      "       'isPrimary', 'conversation', 'replyingTo'],\n",
      "      dtype='object')\n",
      "Dimension of whole dataframe: (1096458, 38)\n",
      "\n",
      "Index(['body'], dtype='object')\n",
      "Dimension of dataframe after removing columns: (1096458, 1)\n",
      "\n"
     ]
    }
   ],
   "source": [
    "# remove columns  \n",
    "\n",
    "print(parler_df.columns)\n",
    "print('Dimension of whole dataframe: ' + str(parler_df.shape) + '\\n') # df.shape -> (rows, columns)\n",
    "\n",
    "# final_df_1 = pd.DataFrame()\n",
    "# final_df_1['body'] = df['body'].copy()\n",
    "# final_df_1['createdAtformatted'] = df['createdAtformatted'].copy()\n",
    "parler_df.drop(parler_df.iloc[:, 2:38], inplace = True, axis = 1) # remove all columns between column index 2 to 38\n",
    "parler_df.drop(['comments'], inplace = True, axis = 1) # remove first column\n",
    "\n",
    "print(parler_df.columns)\n",
    "print('Dimension of dataframe after removing columns: ' + str(parler_df.shape) + '\\n')"
   ]
  },
  {
   "cell_type": "code",
   "execution_count": 3,
   "metadata": {},
   "outputs": [
    {
     "name": "stdout",
     "output_type": "stream",
     "text": [
      "Dimension of dataframe: (1096458, 1)\n",
      "0                                                           \n",
      "1          Sorry BLM, 'Stop snitching' might work in the ...\n",
      "2                                                           \n",
      "3                                       Parisian enrichment.\n",
      "4          Replacing Mark Esper, Acting Defense Secretary...\n",
      "                                 ...                        \n",
      "1096453    A few have asked, why the name Copernicus4u? P...\n",
      "1096454                                    #christians\\nAmen\n",
      "1096455                                                     \n",
      "1096456                   Murdered by Obama/Biden Feb. 2016.\n",
      "1096457    #parler #wwg1wga #maga #kag #newuser #news #tr...\n",
      "Name: body, Length: 1096458, dtype: object\n",
      "\n",
      "Dimension of dataframe after filtering out null values: (637153, 1)\n",
      "1          Sorry BLM, 'Stop snitching' might work in the ...\n",
      "3                                       Parisian enrichment.\n",
      "4          Replacing Mark Esper, Acting Defense Secretary...\n",
      "5          Have you noticed how loud and shrill #FakeNews...\n",
      "7          The benefits of hydroxychloroquine are incredi...\n",
      "                                 ...                        \n",
      "1096450                           America, respected again!!\n",
      "1096453    A few have asked, why the name Copernicus4u? P...\n",
      "1096454                                    #christians\\nAmen\n",
      "1096456                   Murdered by Obama/Biden Feb. 2016.\n",
      "1096457    #parler #wwg1wga #maga #kag #newuser #news #tr...\n",
      "Name: body, Length: 637153, dtype: object\n"
     ]
    }
   ],
   "source": [
    "# filter out null values\n",
    "\n",
    "print('Dimension of dataframe: ' + str(parler_df.shape)) \n",
    "print(parler_df['body']) \n",
    "\n",
    "parler_df['body'].replace(\"\", np.nan, inplace=True)\n",
    "parler_df.dropna(subset=['body'], inplace=True)\n",
    "\n",
    "print('\\n'  + 'Dimension of dataframe after filtering out null values: ' + str(parler_df.shape)) \n",
    "print(parler_df['body'])"
   ]
  },
  {
   "cell_type": "code",
   "execution_count": 4,
   "metadata": {},
   "outputs": [],
   "source": [
    "parler_df.to_csv('parler_df_14_before.csv')"
   ]
  },
  {
   "cell_type": "code",
   "execution_count": 5,
   "metadata": {},
   "outputs": [
    {
     "name": "stdout",
     "output_type": "stream",
     "text": [
      "1          Sorry BLM, 'Stop snitching' might work in the ...\n",
      "3                                       Parisian enrichment.\n",
      "4          Replacing Mark Esper, Acting Defense Secretary...\n",
      "5          Have you noticed how loud and shrill #FakeNews...\n",
      "7          The benefits of hydroxychloroquine are incredi...\n",
      "                                 ...                        \n",
      "1096450                           America, respected again!!\n",
      "1096453    A few have asked, why the name Copernicus4u? P...\n",
      "1096454                                    #christians\\nAmen\n",
      "1096456                   Murdered by Obama/Biden Feb. 2016.\n",
      "1096457    #parler #wwg1wga #maga #kag #newuser #news #tr...\n",
      "Name: body, Length: 637153, dtype: object\n",
      "1          sorry blm, 'stop snitching' might work in the ...\n",
      "3                                       parisian enrichment.\n",
      "4          replacing mark esper, acting defense secretary...\n",
      "5          have you noticed how loud and shrill #fakenews...\n",
      "7          the benefits of hydroxychloroquine are incredi...\n",
      "                                 ...                        \n",
      "1096450                           america, respected again!!\n",
      "1096453    a few have asked, why the name copernicus4u? p...\n",
      "1096454                                     #christians amen\n",
      "1096456                   murdered by obama/biden feb. 2016.\n",
      "1096457    #parler #wwg1wga #maga #kag #newuser #news #tr...\n",
      "Name: body, Length: 637153, dtype: object\n"
     ]
    }
   ],
   "source": [
    "# convert to lowercase\n",
    "\n",
    "print(parler_df['body'])\n",
    "parler_df['body'] = parler_df['body'].apply(lambda x: ' '.join([w.lower() for w in x.split()]))\n",
    "print(parler_df['body'])"
   ]
  },
  {
   "cell_type": "code",
   "execution_count": 6,
   "metadata": {},
   "outputs": [
    {
     "name": "stdout",
     "output_type": "stream",
     "text": [
      "1          sorry blm, 'stop snitching' might work in the ...\n",
      "3                                       parisian enrichment.\n",
      "4          replacing mark esper, acting defense secretary...\n",
      "5          have you noticed how loud and shrill #fakenews...\n",
      "7          the benefits of hydroxychloroquine are incredi...\n",
      "                                 ...                        \n",
      "1096450                           america, respected again!!\n",
      "1096453    a few have asked, why the name copernicus4u? p...\n",
      "1096454                                     #christians amen\n",
      "1096456                   murdered by obama/biden feb. 2016.\n",
      "1096457    #parler #wwg1wga #maga #kag #newuser #news #tr...\n",
      "Name: body, Length: 637153, dtype: object\n",
      "1          sorry blm, 'stop snitching' might work in the ...\n",
      "3                                       parisian enrichment.\n",
      "4          replacing mark esper, acting defense secretary...\n",
      "5          have you noticed how loud and shrill #fakenews...\n",
      "7          the benefits of hydroxychloroquine are incredi...\n",
      "                                 ...                        \n",
      "1096450                           america, respected again!!\n",
      "1096453    a few have asked, why the name copernicus4u? p...\n",
      "1096454                                     #christians amen\n",
      "1096456                   murdered by obama/biden feb. 2016.\n",
      "1096457    #parler #wwg1wga #maga #kag #newuser #news #tr...\n",
      "Name: body, Length: 637153, dtype: object\n"
     ]
    }
   ],
   "source": [
    "# remove emojis\n",
    "\n",
    "import demoji\n",
    "print(parler_df['body'])\n",
    "parler_df['body'] = parler_df['body'].apply(lambda x: demoji.replace(x, \"\"))\n",
    "print(parler_df['body'])"
   ]
  },
  {
   "cell_type": "code",
   "execution_count": 7,
   "metadata": {},
   "outputs": [
    {
     "name": "stdout",
     "output_type": "stream",
     "text": [
      "1          sorry blm, 'stop snitching' might work in the ...\n",
      "3                                       parisian enrichment.\n",
      "4          replacing mark esper, acting defense secretary...\n",
      "5          have you noticed how loud and shrill #fakenews...\n",
      "7          the benefits of hydroxychloroquine are incredi...\n",
      "                                 ...                        \n",
      "1096450                           america, respected again!!\n",
      "1096453    a few have asked, why the name copernicus4u? p...\n",
      "1096454                                     #christians amen\n",
      "1096456                   murdered by obama/biden feb. 2016.\n",
      "1096457    #parler #wwg1wga #maga #kag #newuser #news #tr...\n",
      "Name: body, Length: 637153, dtype: object\n",
      "1          sorry blm, 'stop snitching' might work in the ...\n",
      "3                                       parisian enrichment.\n",
      "4          replacing mark esper, acting defense secretary...\n",
      "5          have you noticed how loud and shrill #fakenews...\n",
      "7          the benefits of hydroxychloroquine are incredi...\n",
      "                                 ...                        \n",
      "1096450                           america, respected again!!\n",
      "1096453    a few have asked, why the name copernicus4u? p...\n",
      "1096454                                     #christians amen\n",
      "1096456               murdered by obama/biden february 2016.\n",
      "1096457    #parler #wwg1wga #maga #kag #newuser #news #tr...\n",
      "Name: body, Length: 637153, dtype: object\n"
     ]
    }
   ],
   "source": [
    "# expand contractions  \n",
    "\n",
    "import contractions\n",
    "print(parler_df['body'])\n",
    "parler_df['body'] = parler_df['body'].apply(lambda x: ' '.join([contractions.fix(word) for word in x.split()]))\n",
    "print(parler_df['body'])"
   ]
  },
  {
   "cell_type": "code",
   "execution_count": 8,
   "metadata": {},
   "outputs": [
    {
     "name": "stdout",
     "output_type": "stream",
     "text": [
      "1          sorry blm, 'stop snitching' might work in the ...\n",
      "3                                       parisian enrichment.\n",
      "4          replacing mark esper, acting defense secretary...\n",
      "5          have you noticed how loud and shrill #fakenews...\n",
      "7          the benefits of hydroxychloroquine are incredi...\n",
      "                                 ...                        \n",
      "1096450                           america, respected again!!\n",
      "1096453    a few have asked, why the name copernicus4u? p...\n",
      "1096454                                     #christians amen\n",
      "1096456               murdered by obama/biden february 2016.\n",
      "1096457    #parler #wwg1wga #maga #kag #newuser #news #tr...\n",
      "Name: body, Length: 637153, dtype: object\n",
      "1          sorry blm stop snitching might work in the hoo...\n",
      "3                                        parisian enrichment\n",
      "4          replacing mark esper acting defense secretary ...\n",
      "5          have you noticed how loud and shrill fakenews ...\n",
      "7          the benefits of hydroxychloroquine are incredi...\n",
      "                                 ...                        \n",
      "1096450                              america respected again\n",
      "1096453    a few have asked why the name copernicus u pri...\n",
      "1096454                                      christians amen\n",
      "1096456                     murdered by obama biden february\n",
      "1096457    parler wwg wga maga kag newuser news trump tru...\n",
      "Name: body, Length: 637153, dtype: object\n"
     ]
    }
   ],
   "source": [
    "# remove numbers\n",
    "\n",
    "import re\n",
    "print(parler_df['body'])\n",
    "parler_df['body'] = parler_df['body'].apply(lambda x: ' '.join(re.sub(\"[^a-zA-Z]+\", \" \", x).split()))\n",
    "print(parler_df['body'])"
   ]
  },
  {
   "cell_type": "code",
   "execution_count": 9,
   "metadata": {},
   "outputs": [
    {
     "name": "stdout",
     "output_type": "stream",
     "text": [
      "1          sorry blm stop snitching might work in the hoo...\n",
      "3                                        parisian enrichment\n",
      "4          replacing mark esper acting defense secretary ...\n",
      "5          have you noticed how loud and shrill fakenews ...\n",
      "7          the benefits of hydroxychloroquine are incredi...\n",
      "                                 ...                        \n",
      "1096450                              america respected again\n",
      "1096453    a few have asked why the name copernicus u pri...\n",
      "1096454                                      christians amen\n",
      "1096456                     murdered by obama biden february\n",
      "1096457    parler wwg wga maga kag newuser news trump tru...\n",
      "Name: body, Length: 637153, dtype: object\n",
      "1          sorry blm stop snitching might work in the hoo...\n",
      "3                                        parisian enrichment\n",
      "4          replacing mark esper acting defense secretary ...\n",
      "5          have you noticed how loud and shrill fakenews ...\n",
      "7          the benefits of hydroxychloroquine are incredi...\n",
      "                                 ...                        \n",
      "1096450                              america respected again\n",
      "1096453    a few have asked why the name copernicus u pri...\n",
      "1096454                                      christians amen\n",
      "1096456                     murdered by obama biden february\n",
      "1096457    parler wwg wga maga kag newuser news trump tru...\n",
      "Name: body, Length: 637153, dtype: object\n"
     ]
    }
   ],
   "source": [
    "# remove punctuation\n",
    "\n",
    "import string \n",
    "print(parler_df['body'])\n",
    "parler_df['body'] = parler_df['body'].apply(lambda x: ''.join([i for i in x if i not in string.punctuation]))\n",
    "print(parler_df['body'])"
   ]
  },
  {
   "cell_type": "code",
   "execution_count": 10,
   "metadata": {},
   "outputs": [
    {
     "name": "stderr",
     "output_type": "stream",
     "text": [
      "[nltk_data] Downloading package wordnet to\n",
      "[nltk_data]     C:\\Users\\cosmi\\AppData\\Roaming\\nltk_data...\n",
      "[nltk_data]   Package wordnet is already up-to-date!\n"
     ]
    },
    {
     "data": {
      "text/plain": [
       "True"
      ]
     },
     "execution_count": 10,
     "metadata": {},
     "output_type": "execute_result"
    }
   ],
   "source": [
    "import nltk\n",
    "from nltk.stem import WordNetLemmatizer, SnowballStemmer\n",
    "from nltk.stem.porter import *\n",
    "from nltk.corpus import stopwords\n",
    "stop_words = stopwords.words('english')\n",
    "nltk.download('wordnet')"
   ]
  },
  {
   "cell_type": "code",
   "execution_count": 11,
   "metadata": {},
   "outputs": [
    {
     "name": "stdout",
     "output_type": "stream",
     "text": [
      "1          sorry blm stop snitching might work in the hoo...\n",
      "3                                        parisian enrichment\n",
      "4          replacing mark esper acting defense secretary ...\n",
      "5          have you noticed how loud and shrill fakenews ...\n",
      "7          the benefits of hydroxychloroquine are incredi...\n",
      "                                 ...                        \n",
      "1096450                              america respected again\n",
      "1096453    a few have asked why the name copernicus u pri...\n",
      "1096454                                      christians amen\n",
      "1096456                     murdered by obama biden february\n",
      "1096457    parler wwg wga maga kag newuser news trump tru...\n",
      "Name: body, Length: 637153, dtype: object\n",
      "1          sorry blm stop snitching might work hood ameri...\n",
      "3                                        parisian enrichment\n",
      "4          replacing mark esper acting defense secretary ...\n",
      "5          noticed loud shrill fakenews become last days ...\n",
      "7          benefits hydroxychloroquine incredible hse ref...\n",
      "                                 ...                        \n",
      "1096450                                    america respected\n",
      "1096453    asked name copernicus u prior nicolaus coperni...\n",
      "1096454                                      christians amen\n",
      "1096456                        murdered obama biden february\n",
      "1096457    parler wwg wga maga kag newuser news trump tru...\n",
      "Name: body, Length: 637153, dtype: object\n"
     ]
    }
   ],
   "source": [
    "# remove stopwords\n",
    "\n",
    "print(parler_df['body'])\n",
    "stopwords = [sw for sw in nltk.corpus.stopwords.words('english') if sw not in ['not', 'no']]\n",
    "stop_words.extend(['from', 'subject', 're', 'edu', 'use'])\n",
    "parler_df['body'] = parler_df['body'].apply(lambda x: ' '.join([w for w in x.split() if w not in stopwords]))\n",
    "print(parler_df['body'])"
   ]
  },
  {
   "cell_type": "code",
   "execution_count": 12,
   "metadata": {},
   "outputs": [
    {
     "name": "stdout",
     "output_type": "stream",
     "text": [
      "1          sorry blm stop snitching might work hood ameri...\n",
      "3                                        parisian enrichment\n",
      "4          replacing mark esper acting defense secretary ...\n",
      "5          noticed loud shrill fakenews become last days ...\n",
      "7          benefits hydroxychloroquine incredible hse ref...\n",
      "                                 ...                        \n",
      "1096450                                    america respected\n",
      "1096453    asked name copernicus u prior nicolaus coperni...\n",
      "1096454                                      christians amen\n",
      "1096456                        murdered obama biden february\n",
      "1096457    parler wwg wga maga kag newuser news trump tru...\n",
      "Name: body, Length: 637153, dtype: object\n",
      "1          sorry blm stop snitching might work hood ameri...\n",
      "3                                        parisian enrichment\n",
      "4          replacing mark esper acting defense secretary ...\n",
      "5          noticed loud shrill fakenews become last day e...\n",
      "7          benefit hydroxychloroquine incredible hse refu...\n",
      "                                 ...                        \n",
      "1096450                                    america respected\n",
      "1096453    asked name copernicus u prior nicolaus coperni...\n",
      "1096454                                       christian amen\n",
      "1096456                        murdered obama biden february\n",
      "1096457    parler wwg wga maga kag newuser news trump tru...\n",
      "Name: body, Length: 637153, dtype: object\n"
     ]
    }
   ],
   "source": [
    "# lemmatization\n",
    "\n",
    "print(parler_df['body'])\n",
    "parler_df['body'] = parler_df['body'].apply(lambda x: ' '.join([WordNetLemmatizer().lemmatize(w) for w in x.split()]))\n",
    "print(parler_df['body'])"
   ]
  },
  {
   "cell_type": "code",
   "execution_count": 13,
   "metadata": {},
   "outputs": [
    {
     "name": "stdout",
     "output_type": "stream",
     "text": [
      "1          sorry blm stop snitching might work hood ameri...\n",
      "3                                        parisian enrichment\n",
      "4          replacing mark esper acting defense secretary ...\n",
      "5          noticed loud shrill fakenews become last day e...\n",
      "7          benefit hydroxychloroquine incredible hse refu...\n",
      "                                 ...                        \n",
      "1096450                                    america respected\n",
      "1096453    asked name copernicus u prior nicolaus coperni...\n",
      "1096454                                       christian amen\n",
      "1096456                        murdered obama biden february\n",
      "1096457    parler wwg wga maga kag newuser news trump tru...\n",
      "Name: body, Length: 637153, dtype: object\n",
      "1          sorry blm stop snitching might work hood ameri...\n",
      "3                                        parisian enrichment\n",
      "4          replacing mark esper acting defense secretary ...\n",
      "5          noticed loud shrill fakenews become last day e...\n",
      "7          benefit hydroxychloroquine incredible hse refu...\n",
      "                                 ...                        \n",
      "1096450                                    america respected\n",
      "1096453    asked name copernicus prior nicolaus copernicu...\n",
      "1096454                                       christian amen\n",
      "1096456                        murdered obama biden february\n",
      "1096457    parler wwg wga maga kag newuser news trump tru...\n",
      "Name: body, Length: 637153, dtype: object\n"
     ]
    }
   ],
   "source": [
    "# remove short words\n",
    "\n",
    "print(parler_df['body'])\n",
    "parler_df['body'] = parler_df['body'].apply(lambda x: ' '.join([w.strip() for w in x.split() if len(w.strip()) >= 3]))\n",
    "print(parler_df['body'])"
   ]
  },
  {
   "cell_type": "code",
   "execution_count": 14,
   "metadata": {},
   "outputs": [
    {
     "name": "stdout",
     "output_type": "stream",
     "text": [
      "Dimension of dataframe: (637153, 1)\n",
      "1          sorry blm stop snitching might work hood ameri...\n",
      "3                                        parisian enrichment\n",
      "4          replacing mark esper acting defense secretary ...\n",
      "5          noticed loud shrill fakenews become last day e...\n",
      "7          benefit hydroxychloroquine incredible hse refu...\n",
      "                                 ...                        \n",
      "1096450                                    america respected\n",
      "1096453    asked name copernicus prior nicolaus copernicu...\n",
      "1096454                                       christian amen\n",
      "1096456                        murdered obama biden february\n",
      "1096457    parler wwg wga maga kag newuser news trump tru...\n",
      "Name: body, Length: 637153, dtype: object\n",
      "\n",
      "Dimension of dataframe after preprocessing: (605628, 1)\n",
      "1          sorry blm stop snitching might work hood ameri...\n",
      "3                                        parisian enrichment\n",
      "4          replacing mark esper acting defense secretary ...\n",
      "5          noticed loud shrill fakenews become last day e...\n",
      "7          benefit hydroxychloroquine incredible hse refu...\n",
      "                                 ...                        \n",
      "1096450                                    america respected\n",
      "1096453    asked name copernicus prior nicolaus copernicu...\n",
      "1096454                                       christian amen\n",
      "1096456                        murdered obama biden february\n",
      "1096457    parler wwg wga maga kag newuser news trump tru...\n",
      "Name: body, Length: 605628, dtype: object\n"
     ]
    }
   ],
   "source": [
    "# filter out null values once more\n",
    "\n",
    "print('Dimension of dataframe: ' + str(parler_df.shape)) \n",
    "print(parler_df['body']) \n",
    "\n",
    "parler_df['body'].replace(\"\", np.nan, inplace=True)\n",
    "parler_df.dropna(subset=['body'], inplace=True)\n",
    "\n",
    "print('\\n'  + 'Dimension of dataframe after preprocessing: ' + str(parler_df.shape)) \n",
    "print(parler_df['body'])"
   ]
  },
  {
   "cell_type": "code",
   "execution_count": 15,
   "metadata": {},
   "outputs": [],
   "source": [
    "parler_df.to_csv('parler_df_14.csv')"
   ]
  }
 ],
 "metadata": {
  "kernelspec": {
   "display_name": "Python 3",
   "language": "python",
   "name": "python3"
  },
  "language_info": {
   "codemirror_mode": {
    "name": "ipython",
    "version": 3
   },
   "file_extension": ".py",
   "mimetype": "text/x-python",
   "name": "python",
   "nbconvert_exporter": "python",
   "pygments_lexer": "ipython3",
   "version": "3.8.3"
  }
 },
 "nbformat": 4,
 "nbformat_minor": 5
}
